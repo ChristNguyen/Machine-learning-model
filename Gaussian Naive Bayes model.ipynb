{
 "cells": [
  {
   "cell_type": "code",
   "execution_count": 1,
   "metadata": {},
   "outputs": [
    {
     "data": {
      "text/plain": [
       "10×4 Array{Float64,2}:\n",
       " 0.37286   0.676714   0.40126    0.80576 \n",
       " 0.228578  0.339034   0.0242557  0.28646 \n",
       " 0.480525  0.659057   0.491724   0.555683\n",
       " 0.765848  0.367375   0.574516   0.197365\n",
       " 0.569898  0.462095   0.127861   0.588978\n",
       " 0.581349  0.118956   0.730928   0.737173\n",
       " 0.143286  0.391312   0.39082    0.18062 \n",
       " 0.858951  0.699152   0.910734   0.660157\n",
       " 0.617428  0.0450365  0.425527   0.186302\n",
       " 0.589401  0.6544     0.37336    0.512039"
      ]
     },
     "execution_count": 1,
     "metadata": {},
     "output_type": "execute_result"
    }
   ],
   "source": [
    "X = rand(10, 4)"
   ]
  },
  {
   "cell_type": "code",
   "execution_count": 2,
   "metadata": {},
   "outputs": [
    {
     "data": {
      "text/plain": [
       "(10, 4)"
      ]
     },
     "execution_count": 2,
     "metadata": {},
     "output_type": "execute_result"
    }
   ],
   "source": [
    "size(X)"
   ]
  },
  {
   "cell_type": "code",
   "execution_count": 3,
   "metadata": {},
   "outputs": [
    {
     "data": {
      "text/plain": [
       "3×4 Array{Float64,2}:\n",
       " 0.37286   0.676714  0.40126    0.80576 \n",
       " 0.228578  0.339034  0.0242557  0.28646 \n",
       " 0.480525  0.659057  0.491724   0.555683"
      ]
     },
     "execution_count": 3,
     "metadata": {},
     "output_type": "execute_result"
    }
   ],
   "source": [
    "# first 3 rows\n",
    "X[1:3, :]"
   ]
  },
  {
   "cell_type": "code",
   "execution_count": 4,
   "metadata": {},
   "outputs": [
    {
     "data": {
      "text/plain": [
       "4×4 Array{Float64,2}:\n",
       " 0.143286  0.391312   0.39082   0.18062 \n",
       " 0.858951  0.699152   0.910734  0.660157\n",
       " 0.617428  0.0450365  0.425527  0.186302\n",
       " 0.589401  0.6544     0.37336   0.512039"
      ]
     },
     "execution_count": 4,
     "metadata": {},
     "output_type": "execute_result"
    }
   ],
   "source": [
    "X[end-3:end, :]"
   ]
  },
  {
   "cell_type": "code",
   "execution_count": 16,
   "metadata": {},
   "outputs": [
    {
     "data": {
      "text/plain": [
       "10-element Array{Int64,1}:\n",
       " 1\n",
       " 2\n",
       " 1\n",
       " 2\n",
       " 1\n",
       " 1\n",
       " 2\n",
       " 2\n",
       " 2\n",
       " 2"
      ]
     },
     "execution_count": 16,
     "metadata": {},
     "output_type": "execute_result"
    }
   ],
   "source": [
    "y = [1; 2; 1; 2; 1; 1; 2; 2; 2; 2]"
   ]
  },
  {
   "cell_type": "code",
   "execution_count": 17,
   "metadata": {},
   "outputs": [
    {
     "data": {
      "text/plain": [
       "10"
      ]
     },
     "execution_count": 17,
     "metadata": {},
     "output_type": "execute_result"
    }
   ],
   "source": [
    "length(y)"
   ]
  },
  {
   "cell_type": "code",
   "execution_count": 9,
   "metadata": {},
   "outputs": [
    {
     "data": {
      "text/plain": [
       "10×4 Array{Float64,2}:\n",
       " 0.37286   0.676714   0.40126    0.80576 \n",
       " 0.228578  0.339034   0.0242557  0.28646 \n",
       " 0.480525  0.659057   0.491724   0.555683\n",
       " 0.765848  0.367375   0.574516   0.197365\n",
       " 0.569898  0.462095   0.127861   0.588978\n",
       " 0.581349  0.118956   0.730928   0.737173\n",
       " 0.143286  0.391312   0.39082    0.18062 \n",
       " 0.858951  0.699152   0.910734   0.660157\n",
       " 0.617428  0.0450365  0.425527   0.186302\n",
       " 0.589401  0.6544     0.37336    0.512039"
      ]
     },
     "execution_count": 9,
     "metadata": {},
     "output_type": "execute_result"
    }
   ],
   "source": [
    "X"
   ]
  },
  {
   "cell_type": "code",
   "execution_count": 18,
   "metadata": {},
   "outputs": [
    {
     "data": {
      "text/plain": [
       "10-element BitArray{1}:\n",
       " 1\n",
       " 0\n",
       " 1\n",
       " 0\n",
       " 1\n",
       " 1\n",
       " 0\n",
       " 0\n",
       " 0\n",
       " 0"
      ]
     },
     "execution_count": 18,
     "metadata": {},
     "output_type": "execute_result"
    }
   ],
   "source": [
    "index_1 = (y .== 1)"
   ]
  },
  {
   "cell_type": "code",
   "execution_count": 11,
   "metadata": {},
   "outputs": [
    {
     "data": {
      "text/plain": [
       "true"
      ]
     },
     "execution_count": 11,
     "metadata": {},
     "output_type": "execute_result"
    }
   ],
   "source": [
    "index_1[1]"
   ]
  },
  {
   "cell_type": "code",
   "execution_count": 13,
   "metadata": {},
   "outputs": [
    {
     "data": {
      "text/plain": [
       "false"
      ]
     },
     "execution_count": 13,
     "metadata": {},
     "output_type": "execute_result"
    }
   ],
   "source": [
    "index_1[2]"
   ]
  },
  {
   "cell_type": "code",
   "execution_count": 20,
   "metadata": {},
   "outputs": [
    {
     "data": {
      "text/plain": [
       "4×4 Array{Float64,2}:\n",
       " 0.37286   0.676714  0.40126   0.80576 \n",
       " 0.480525  0.659057  0.491724  0.555683\n",
       " 0.569898  0.462095  0.127861  0.588978\n",
       " 0.581349  0.118956  0.730928  0.737173"
      ]
     },
     "execution_count": 20,
     "metadata": {},
     "output_type": "execute_result"
    }
   ],
   "source": [
    "X1 = X[index_1, :]"
   ]
  },
  {
   "cell_type": "code",
   "execution_count": 23,
   "metadata": {},
   "outputs": [
    {
     "data": {
      "text/plain": [
       "1×4 Array{Float64,2}:\n",
       " 0.501158  0.479206  0.437943  0.671898"
      ]
     },
     "execution_count": 23,
     "metadata": {},
     "output_type": "execute_result"
    }
   ],
   "source": [
    "#μ_11: mean of first column\n",
    "#μ_21: mean of second column\n",
    "#μ_j1: mean of j-th column\n",
    "#μ_1 = [μ_11, μ_21,...,μ_D1]\n",
    "\n",
    "using Statistics\n",
    "μ_1 = mean(X1, dims=1)\n"
   ]
  },
  {
   "cell_type": "code",
   "execution_count": 24,
   "metadata": {},
   "outputs": [
    {
     "data": {
      "text/plain": [
       "1×4 Array{Float64,2}:\n",
       " 0.533915  0.416052  0.449869  0.337157"
      ]
     },
     "execution_count": 24,
     "metadata": {},
     "output_type": "execute_result"
    }
   ],
   "source": [
    "index_2 = (y .== 2)\n",
    "X2 = X[index_2, :]\n",
    "μ_2 = mean(X2, dims=1)"
   ]
  },
  {
   "cell_type": "code",
   "execution_count": 68,
   "metadata": {},
   "outputs": [
    {
     "data": {
      "text/plain": [
       "20×4 Array{Float64,2}:\n",
       " 5.0  3.4  1.5  0.2\n",
       " 4.6  3.6  1.0  0.2\n",
       " 5.1  3.8  1.9  0.4\n",
       " 4.9  3.0  1.4  0.2\n",
       " 5.4  3.9  1.7  0.4\n",
       " 4.4  3.2  1.3  0.2\n",
       " 5.3  3.7  1.5  0.2\n",
       " 6.1  2.9  4.7  1.4\n",
       " 6.0  3.4  4.5  1.6\n",
       " 5.5  2.3  4.0  1.3\n",
       " 6.5  2.8  4.6  1.5\n",
       " 6.8  2.8  4.8  1.4\n",
       " 6.2  2.9  4.3  1.3\n",
       " 6.7  3.0  5.2  2.3\n",
       " 6.4  3.1  5.5  1.8\n",
       " 5.7  2.5  5.0  2.0\n",
       " 6.7  3.3  5.7  2.1\n",
       " 6.8  3.2  5.9  2.3\n",
       " 7.7  3.0  6.1  2.3\n",
       " 7.3  2.9  6.3  1.8"
      ]
     },
     "execution_count": 68,
     "metadata": {},
     "output_type": "execute_result"
    }
   ],
   "source": [
    "using DelimitedFiles\n",
    "\n",
    "A_train = readdlm(\"iris.train\")\n",
    "A_test = readdlm(\"iris.test\")\n",
    "\n",
    "X_train = A_train[:,2:end]\n",
    "y_train = Int.(A_train[:,1])\n",
    "\n",
    "X_test = A_test[:, 2:end]\n",
    "y_test = Int.(A_test[:, 1])\n"
   ]
  },
  {
   "cell_type": "code",
   "execution_count": 52,
   "metadata": {},
   "outputs": [
    {
     "data": {
      "text/plain": [
       "train (generic function with 1 method)"
      ]
     },
     "execution_count": 52,
     "metadata": {},
     "output_type": "execute_result"
    }
   ],
   "source": [
    "function train(X::Array{Float64,2}, y::Array{Int})::Tuple{Array{Float64}, Array{Float64,2}, Array{Float64,2}}\n",
    "    N, D = size(X)\n",
    "    K = length(unique(y))\n",
    "    μ = zeros(K, D)\n",
    "    σ = zeros(K, D)\n",
    "    θ = zeros(K)\n",
    "    \n",
    "    for k = 1:K\n",
    "        index_k = y .== k\n",
    "        θ[k] = sum(index_k)/N\n",
    "        Xk = X[index_k, :]\n",
    "        μ[k, :] = mean(Xk, dims=1)\n",
    "        σ[k, :] = std(Xk, dims=1)\n",
    "    end\n",
    "    (θ, μ, σ)\n",
    "end"
   ]
  },
  {
   "cell_type": "code",
   "execution_count": 56,
   "metadata": {},
   "outputs": [
    {
     "name": "stdout",
     "output_type": "stream",
     "text": [
      "[0.33076923076923076, 0.3384615384615385, 0.33076923076923076]\n",
      "[5.013953488372093 3.40232558139535 1.4627906976744185 0.24186046511627904; 5.902272727272727 2.759090909090909 4.229545454545454 1.3136363636363637; 6.560465116279069 2.9697674418604647 5.532558139534883 2.016279069767442]\n",
      "[0.35495230756018964 0.39004784327604836 0.15278876768419214 0.109615253847122; 0.5205045121282594 0.3112750834709582 0.4834851891406739 0.20413277609154643; 0.6388753268658623 0.33419048155557596 0.5664092959926881 0.28278397657688786]\n"
     ]
    }
   ],
   "source": [
    "θ, μ, σ = train(X_train, y_train)\n",
    "println(θ)\n",
    "println(μ)\n",
    "println(σ)"
   ]
  },
  {
   "cell_type": "code",
   "execution_count": 61,
   "metadata": {},
   "outputs": [
    {
     "data": {
      "text/plain": [
       "classify (generic function with 1 method)"
      ]
     },
     "execution_count": 61,
     "metadata": {},
     "output_type": "execute_result"
    }
   ],
   "source": [
    "function classify(x::Array{Float64}, θ, μ, σ)::Int\n",
    "    K = length(θ)\n",
    "    scores = zeros(K)\n",
    "    for k = 1:K\n",
    "        u = (x - μ[k, :]) .^ 2\n",
    "        v = -log.(sqrt(2*pi) * σ[k,:]) - u ./ 2 ./ (σ[k, :] .^ 2)\n",
    "        scores[k] = log(θ[k]) + sum(v)\n",
    "    end\n",
    "    argmax(scores)\n",
    "end"
   ]
  },
  {
   "cell_type": "code",
   "execution_count": 60,
   "metadata": {},
   "outputs": [
    {
     "name": "stdout",
     "output_type": "stream",
     "text": [
      "[0.11002021400206319, 0.28534055636790523, 0.26265962949750965, 0.518371037359528, 0.5324643480098605, 0.2515635840959234, 0.31497247034186127, 0.7285356815756125, 0.8475018321379917, 0.8165974737265178]\n"
     ]
    },
    {
     "data": {
      "text/plain": [
       "9"
      ]
     },
     "execution_count": 60,
     "metadata": {},
     "output_type": "execute_result"
    }
   ],
   "source": [
    "scores = rand(10)\n",
    "println(scores)\n",
    "argmax(scores)"
   ]
  },
  {
   "cell_type": "code",
   "execution_count": 80,
   "metadata": {},
   "outputs": [
    {
     "data": {
      "text/plain": [
       "classify (generic function with 2 methods)"
      ]
     },
     "execution_count": 80,
     "metadata": {},
     "output_type": "execute_result"
    }
   ],
   "source": [
    "function classify(X::Array{Float64,2}, θ, μ, σ)::Array{Int}\n",
    "    N = size(X,1)\n",
    "    y = zeros(N)\n",
    "    for i=1:N\n",
    "        y[i] = classify(X[i,:], θ, μ, σ)\n",
    "    end\n",
    "    y    \n",
    "#    map(i -> classify(X[i,:], θ, μ, σ), collect(1:N))\n",
    "end"
   ]
  },
  {
   "cell_type": "code",
   "execution_count": 81,
   "metadata": {},
   "outputs": [
    {
     "data": {
      "text/plain": [
       "20-element Array{Int64,1}:\n",
       " 1\n",
       " 1\n",
       " 1\n",
       " 1\n",
       " 1\n",
       " 1\n",
       " 1\n",
       " 2\n",
       " 2\n",
       " 2\n",
       " 2\n",
       " 2\n",
       " 2\n",
       " 3\n",
       " 3\n",
       " 3\n",
       " 3\n",
       " 3\n",
       " 3\n",
       " 3"
      ]
     },
     "execution_count": 81,
     "metadata": {},
     "output_type": "execute_result"
    }
   ],
   "source": [
    "prediction_test = classify(X_test, θ, μ, σ)"
   ]
  },
  {
   "cell_type": "code",
   "execution_count": 75,
   "metadata": {},
   "outputs": [
    {
     "data": {
      "text/plain": [
       "evaluate (generic function with 1 method)"
      ]
     },
     "execution_count": 75,
     "metadata": {},
     "output_type": "execute_result"
    }
   ],
   "source": [
    "function evaluate(X::Array{Float64,2}, y::Array{Int}, θ, μ, σ)::Float64\n",
    "    prediction = classify(X, θ, μ, σ)\n",
    "    sum(prediction .== y)/length(y)\n",
    "end"
   ]
  },
  {
   "cell_type": "code",
   "execution_count": 77,
   "metadata": {},
   "outputs": [
    {
     "data": {
      "text/plain": [
       "0.9538461538461539"
      ]
     },
     "execution_count": 77,
     "metadata": {},
     "output_type": "execute_result"
    }
   ],
   "source": [
    "test_accuracy = evaluate(X_test, y_test, θ, μ, σ)\n",
    "train_accuracy = evaluate(X_train, y_train, θ, μ, σ)"
   ]
  }
 ],
 "metadata": {
  "kernelspec": {
   "display_name": "Julia 1.2.0",
   "language": "julia",
   "name": "julia-1.2"
  },
  "language_info": {
   "file_extension": ".jl",
   "mimetype": "application/julia",
   "name": "julia",
   "version": "1.2.0"
  }
 },
 "nbformat": 4,
 "nbformat_minor": 2
}
