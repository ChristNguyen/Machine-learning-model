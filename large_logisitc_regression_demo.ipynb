{
 "cells": [
  {
   "cell_type": "markdown",
   "metadata": {},
   "source": [
    "# Course Demo 3: Optimization for Large Scale Logistic Regression "
   ]
  },
  {
   "cell_type": "markdown",
   "metadata": {},
   "source": [
    "Logistic regression is widely used in Machine Learning and Statistics for binary classification.\n",
    "\n",
    "Given data $(x_1,y_1),\\ldots, (x_N,y_N)$, where $x_i\\in R^d, y_i\\in\\{-1,1\\}$, $i=1,\\ldots,N$, the logistic regresion model assumes that \n",
    "$$P(y=1|x,w)=\\sigma(w^Tx):=\\frac{1}{1+\\exp(-w^Tx)}.$$\n",
    "The maximum likelihood estimation leads to the optimization problem \n",
    "$$\\min_{w} f(w):=\\frac{1}{N}\\sum_{i=1}^N \\log(1+\\exp(-y_iw^Tx_i))+\\frac{\\lambda}{2}\\|w\\|_2^2$$\n",
    "where $\\lambda\\geq 0$ is the regularization parameter. \n",
    "\n",
    "In this demo, we consider the case when $N$ is large and illustrate how to apply some of the algorithms we learnt in class for solving stochastic optimization. In particular, we implement three algorithms,  full Gradient Descent (GD), Stochastic Gradient Descent(SGD), and Stochastic Variance Reduced Gradient(SVRG), and investigate their empirical behaviors. "
   ]
  },
  {
   "cell_type": "code",
   "execution_count": 1,
   "metadata": {
    "collapsed": true
   },
   "outputs": [],
   "source": [
    "%matplotlib inline \n",
    "import numpy as np\n",
    "from matplotlib import pyplot as plt\n",
    "from sklearn import datasets\n",
    "from sklearn.preprocessing import normalize\n",
    "from scipy.special import expit as sigmoid"
   ]
  },
  {
   "cell_type": "markdown",
   "metadata": {},
   "source": [
    "## Synthetic Data Generation"
   ]
  },
  {
   "cell_type": "code",
   "execution_count": 2,
   "metadata": {
    "collapsed": false
   },
   "outputs": [],
   "source": [
    "N = 10000\n",
    "dim = 50\n",
    "lamda = 1e-4\n",
    "np.random.seed(1)\n",
    "w = np.matrix(np.random.multivariate_normal([0.0]*dim, np.eye(dim))).T\n",
    "X = np.matrix(np.random.multivariate_normal([0.0]*dim, np.eye(dim), size = N))\n",
    "X = np.matrix(normalize(X, axis=1, norm='l2'))\n",
    "y = 2 * (np.random.uniform(size = (N, 1)) < sigmoid(X*w)) - 1"
   ]
  },
  {
   "cell_type": "markdown",
   "metadata": {},
   "source": [
    "## Real-World Forrest Covertype Dataset"
   ]
  },
  {
   "cell_type": "code",
   "execution_count": null,
   "metadata": {
    "collapsed": false
   },
   "outputs": [],
   "source": [
    "file = datasets.load_svmlight_file('covtype.libsvm.binary.scale',n_features=54)\n",
    "y = np.matrix(file[1]).T\n",
    "X = file[0].todense()\n",
    "train_idx = np.random.randint(0,X.shape[0], int(0.1*X.shape[0]))\n",
    "y = y[train_idx,:]\n",
    "X = np.matrix(normalize(X[train_idx,:], axis=1, norm='l2'))\n",
    "lamda = 1e-4\n",
    "N, dim = X.shape\n",
    "print('dataset of size: {} X {}'.format(N,dim))"
   ]
  },
  {
   "cell_type": "markdown",
   "metadata": {},
   "source": []
  },
  {
   "cell_type": "code",
   "execution_count": 3,
   "metadata": {
    "collapsed": false
   },
   "outputs": [
    {
     "name": "stdout",
     "output_type": "stream",
     "text": [
      "\n",
      "ECOS 2.0.4 - (C) embotech GmbH, Zurich Switzerland, 2012-15. Web: www.embotech.com/ECOS\n",
      "\n",
      "It     pcost       dcost      gap   pres   dres    k/t    mu     step   sigma     IR    |   BT\n",
      " 0  +0.000e+00  -1.580e+04  +7e+04  6e-01  3e+00  1e+00  1e+00    ---    ---    0  0  - |  -  - \n",
      " 1  +2.452e+00  -3.939e+03  +2e+04  1e-01  1e+00  3e-01  2e-01  0.7833  9e-03   1  1  1 |  1  1\n",
      " 2  +2.776e+00  -7.226e+02  +4e+03  2e-02  5e-01  1e-01  6e-02  0.7833  7e-02   1  1  1 |  0  1\n",
      " 3  +2.805e+00  -1.789e+02  +1e+03  3e-03  5e-01  3e-02  2e-02  0.7161  4e-03   1  1  1 |  0  1\n",
      " 4  +2.790e+00  -3.792e+01  +3e+02  8e-04  3e-01  7e-03  4e-03  0.7833  1e-02   1  1  1 |  1  1\n",
      " 5  +2.660e+00  -9.423e+00  +8e+01  2e-04  3e-01  2e-03  1e-03  0.7174  3e-02   1  1  1 |  1  1\n",
      " 6  +2.256e+00  -4.370e-01  +2e+01  5e-05  9e-02  4e-04  3e-04  0.7833  4e-02   1  1  1 |  0  1\n",
      " 7  +1.425e+00  +9.427e-02  +1e+01  3e-05  4e-02  3e-04  2e-04  0.9791  6e-01   1  1  1 |  0  0\n",
      " 8  +1.074e+00  +5.875e-01  +4e+00  1e-05  2e-02  1e-04  6e-05  0.6266  6e-02   1  1  1 |  1  2\n",
      " 9  +7.802e-01  +5.938e-01  +2e+00  4e-06  6e-03  5e-05  3e-05  0.6266  1e-01   1  1  1 |  1  2\n",
      "10  +6.702e-01  +6.017e-01  +8e-01  1e-06  2e-03  2e-05  1e-05  0.6266  3e-02   1  1  1 |  1  2\n",
      "11  +6.314e-01  +6.038e-01  +3e-01  6e-07  9e-04  8e-06  5e-06  0.6266  6e-02   1  1  1 |  2  2\n",
      "12  +6.092e-01  +6.052e-01  +5e-02  8e-08  1e-04  3e-07  7e-07  0.9791  1e-01   1  1  1 |  3  0\n",
      "13  +6.064e-01  +6.053e-01  +1e-02  2e-08  3e-05  6e-08  2e-07  0.7833  5e-02   1  1  1 |  2  1\n",
      "14  +6.058e-01  +6.053e-01  +5e-03  9e-09  1e-05  2e-08  7e-08  0.6266  6e-02   2  1  1 |  2  2\n",
      "15  +6.055e-01  +6.054e-01  +1e-03  2e-09  3e-06  5e-09  2e-08  0.7833  9e-03   2  1  1 |  1  1\n",
      "16  +6.054e-01  +6.054e-01  +4e-04  8e-10  1e-06  2e-09  6e-09  0.6266  5e-02   1  1  1 |  2  2\n",
      "17  +6.054e-01  +6.054e-01  +1e-04  2e-10  3e-07  5e-10  1e-09  0.7833  9e-03   2  1  1 |  1  1\n",
      "18  +6.054e-01  +6.054e-01  +4e-05  7e-11  1e-07  2e-10  6e-10  0.6266  5e-02   2  2  1 |  2  2\n",
      "19  +6.054e-01  +6.054e-01  +9e-06  2e-11  3e-08  4e-11  1e-10  0.7833  9e-03   2  2  2 |  1  1\n",
      "20  +6.054e-01  +6.054e-01  +4e-06  6e-12  1e-08  1e-11  5e-11  0.6266  5e-02   1  2  2 |  2  2\n",
      "21  +6.054e-01  +6.054e-01  +8e-07  1e-12  2e-09  3e-12  1e-11  0.7833  9e-03   1  2  2 |  1  1\n",
      "22  +6.054e-01  +6.054e-01  +3e-07  6e-13  9e-10  1e-12  5e-12  0.6266  5e-02   2  2  2 |  2  2\n",
      "23  +6.054e-01  +6.054e-01  +7e-08  1e-13  2e-10  3e-13  1e-12  0.7833  9e-03   2  2  2 |  1  1\n",
      "24  +6.054e-01  +6.054e-01  +3e-08  5e-14  8e-11  1e-13  4e-13  0.6266  5e-02   2  2  2 |  2  2\n",
      "25  +6.054e-01  +6.054e-01  +7e-09  1e-14  2e-11  2e-14  9e-14  0.7833  9e-03   1  1  1 |  1  1\n",
      "26  +6.054e-01  +6.054e-01  +3e-09  1e-14  8e-12  9e-15  4e-14  0.6266  5e-02   2  2  2 |  2  2\n",
      "\n",
      "OPTIMAL (within feastol=7.5e-12, reltol=4.4e-09, abstol=2.7e-09).\n",
      "Runtime: 12.694955 seconds.\n",
      "\n",
      "Optimal Objective function value is: 0.6053663831153481\n"
     ]
    }
   ],
   "source": [
    "import cvxpy as cvx\n",
    "\n",
    "w = cvx.Variable(dim)\n",
    "loss = 1/N * cvx.sum_entries(cvx.logistic(-cvx.mul_elemwise(y, X*w))) + lamda/2 * cvx.sum_squares(w)\n",
    "\n",
    "problem = cvx.Problem(cvx.Minimize(loss))\n",
    "problem.solve(verbose=True, abstol=1e-15) \n",
    "opt = problem.value\n",
    "print('Optimal Objective function value is: {}'.format(opt))"
   ]
  },
  {
   "cell_type": "markdown",
   "metadata": {},
   "source": [
    "## Parameters"
   ]
  },
  {
   "cell_type": "code",
   "execution_count": 4,
   "metadata": {
    "collapsed": true
   },
   "outputs": [],
   "source": [
    "L = lamda + 1/4;\n",
    "num_pass = 50"
   ]
  },
  {
   "cell_type": "markdown",
   "metadata": {},
   "source": [
    "## Full Gradient Descent (GD)\n"
   ]
  },
  {
   "cell_type": "code",
   "execution_count": 5,
   "metadata": {
    "collapsed": true
   },
   "outputs": [],
   "source": [
    "## Define the objective and gradient oracles. \n",
    "def obj(w):\n",
    "    return 1/N * np.sum( np.log(1 + np.exp(-np.multiply(y, (X*w)))) ) + 1/2 * lamda * (w.T*w)\n",
    "\n",
    "def grad(w,X,y):\n",
    "    return 1/X.shape[0] * X.T * np.multiply( y, sigmoid(np.multiply(y, X*w)) - 1) + lamda*w"
   ]
  },
  {
   "cell_type": "code",
   "execution_count": 6,
   "metadata": {
    "collapsed": false
   },
   "outputs": [
    {
     "name": "stdout",
     "output_type": "stream",
     "text": [
      "Objective function value is: 0.6090202114663853\n"
     ]
    }
   ],
   "source": [
    "## Gradient Descent\n",
    "w = np.matrix([0.0]*dim).T\n",
    "obj_GD = []\n",
    "max_iter = num_pass\n",
    "for t in range(0, max_iter):\n",
    "    obj_val = obj(w)\n",
    "    w = w - 2/(L+lamda) * grad(w, X, y)\n",
    "    \n",
    "    obj_GD.append(obj_val.item())\n",
    "    \n",
    "print('Objective function value is: {}'.format(obj_GD[-1]))\n"
   ]
  },
  {
   "cell_type": "code",
   "execution_count": 7,
   "metadata": {
    "collapsed": false
   },
   "outputs": [
    {
     "data": {
      "text/plain": [
       "<matplotlib.text.Text at 0x1044defd0>"
      ]
     },
     "execution_count": 7,
     "metadata": {},
     "output_type": "execute_result"
    },
    {
     "data": {
      "image/png": "[encoded data removed]",
      "text/plain": [
       "<matplotlib.figure.Figure at 0x115057c18>"
      ]
     },
     "metadata": {},
     "output_type": "display_data"
    }
   ],
   "source": [
    "## Plot objective vs. iteration\n",
    "t = np.arange(0,num_pass)\n",
    "plt.plot(t, np.ones((len(t),1))*opt, 'k', linewidth = 2, label = 'Optimal')\n",
    "plt.plot(t, np.array(obj_GD), 'b', linewidth = 2, label = 'GD')\n",
    "plt.legend(prop={'size':12})\n",
    "plt.xlabel('No. of Passes')\n",
    "plt.ylabel('Objective')"
   ]
  },
  {
   "cell_type": "markdown",
   "metadata": {},
   "source": [
    "## Stochastic Gradient Descent"
   ]
  },
  {
   "cell_type": "code",
   "execution_count": 8,
   "metadata": {
    "collapsed": false
   },
   "outputs": [
    {
     "name": "stdout",
     "output_type": "stream",
     "text": [
      "Objective function value is: 0.6100871334202216\n"
     ]
    }
   ],
   "source": [
    "## Stochastic Gradient Descent\n",
    "w = np.matrix([0.0]*dim).T\n",
    "obj_SGD = []\n",
    "batch = 50\n",
    "for s in range(num_pass):\n",
    "    obj_val = obj(w)\n",
    "    obj_SGD.append(obj_val.item())   \n",
    "    max_iter = int(N/batch)\n",
    "    for t in range(max_iter):\n",
    "        rand_idx = np.random.randint(0, N-1,batch) \n",
    "        yt = y[rand_idx, 0]\n",
    "        xt = X[rand_idx, :]\n",
    "        # gamma = 1/(lamda*(t+1))             # theoretical stepsize\n",
    "        gamma = 0.1/(lamda*(t+100))           # better stepsize\n",
    "        w = w -  gamma * grad(w,xt,yt)\n",
    "\n",
    "print('Objective function value is: {}'.format(obj_SGD[-1]))       "
   ]
  },
  {
   "cell_type": "code",
   "execution_count": 9,
   "metadata": {
    "collapsed": false
   },
   "outputs": [
    {
     "data": {
      "text/plain": [
       "<matplotlib.text.Text at 0x1045a0f60>"
      ]
     },
     "execution_count": 9,
     "metadata": {},
     "output_type": "execute_result"
    },
    {
     "data": {
      "image/png": "[encoded data removed]",
      "text/plain": [
       "<matplotlib.figure.Figure at 0x104593be0>"
      ]
     },
     "metadata": {},
     "output_type": "display_data"
    }
   ],
   "source": [
    "## Plot objective vs. iteration\n",
    "t = np.arange(0, num_pass)\n",
    "plt.plot(t, np.ones((len(t),1))*opt, 'k', linewidth = 2, label = 'Optimal')\n",
    "plt.plot(t, np.array(obj_SGD), 'g', linewidth = 2, label = 'SGD')\n",
    "plt.legend(prop={'size':12})\n",
    "plt.xlabel('No. of Passes')\n",
    "plt.ylabel('Objective')"
   ]
  },
  {
   "cell_type": "markdown",
   "metadata": {},
   "source": [
    "## Stochastic Variance Reduced Gradient (SVRG)"
   ]
  },
  {
   "cell_type": "code",
   "execution_count": 10,
   "metadata": {
    "collapsed": false
   },
   "outputs": [
    {
     "name": "stdout",
     "output_type": "stream",
     "text": [
      "Objective function value is: 0.6053663828944768\n"
     ]
    }
   ],
   "source": [
    "## SVRG\n",
    "w = np.matrix([0.0]*dim).T\n",
    "obj_SVRG = []\n",
    "passes_SVRG = []\n",
    "\n",
    "Epochs = 15\n",
    "k = 2\n",
    "batch = 50\n",
    "for s in range(Epochs):\n",
    "    obj_val = obj(w)\n",
    "    obj_SVRG.append(obj_val.item())\n",
    "    passes_SVRG.append(s*k+s)\n",
    "    \n",
    "    w_prev = w\n",
    "    gradient = grad(w, X, y)\n",
    "\n",
    "    obj_SVRG.append(obj_val.item())\n",
    "    passes_SVRG.append(s*k+s+1)    \n",
    "    \n",
    "    max_iter = int(k*N/batch)\n",
    "    for t in range(max_iter):\n",
    "        rand_idx = np.random.randint(0, N-1, batch)\n",
    "        yt = y[rand_idx, 0]\n",
    "        xt = X[rand_idx, :]\n",
    "        gamma = 1/L\n",
    "        w = w - gamma * (grad(w,xt,yt) - grad(w_prev,xt,yt) + gradient)\n",
    "\n",
    "print('Objective function value is: {}'.format(obj_SVRG[-1]))       "
   ]
  },
  {
   "cell_type": "code",
   "execution_count": 11,
   "metadata": {
    "collapsed": false
   },
   "outputs": [
    {
     "data": {
      "text/plain": [
       "<matplotlib.text.Text at 0x10461e9b0>"
      ]
     },
     "execution_count": 11,
     "metadata": {},
     "output_type": "execute_result"
    },
    {
     "data": {
      "image/png": "[encoded data removed]",
      "text/plain": [
       "<matplotlib.figure.Figure at 0x1044edeb8>"
      ]
     },
     "metadata": {},
     "output_type": "display_data"
    }
   ],
   "source": [
    "## Plot objective vs. iteration\n",
    "t = passes_SVRG\n",
    "plt.plot(t, np.ones((len(t),1))*opt, 'k', linewidth = 2, label = 'Optimal')\n",
    "plt.plot(t, np.array(obj_SVRG), 'r', linewidth = 2, label = 'SVRG')\n",
    "plt.legend(prop={'size':12})\n",
    "plt.xlabel('No. of Passes ')\n",
    "plt.ylabel('Objective')"
   ]
  },
  {
   "cell_type": "markdown",
   "metadata": {},
   "source": [
    "## Compare All Algorithms"
   ]
  },
  {
   "cell_type": "code",
   "execution_count": 12,
   "metadata": {
    "collapsed": false
   },
   "outputs": [
    {
     "data": {
      "text/plain": [
       "<matplotlib.text.Text at 0x10459a828>"
      ]
     },
     "execution_count": 12,
     "metadata": {},
     "output_type": "execute_result"
    },
    {
     "data": {
      "image/png": "[encoded data removed]",
      "text/plain": [
       "<matplotlib.figure.Figure at 0x104625748>"
      ]
     },
     "metadata": {},
     "output_type": "display_data"
    }
   ],
   "source": [
    "## Compare GD, SGD, SVRG\n",
    "passes_GD = range(len(obj_GD))\n",
    "passes_SGD = range(len(obj_SGD))\n",
    "fig, ax = plt.subplots(figsize = (9, 6))\n",
    "ax.semilogy(passes_GD, np.array(obj_GD)-opt, color='b', linewidth=2, label='GD')\n",
    "ax.semilogy(passes_SGD, np.array(obj_SGD)-opt, color='g', linewidth=2, label='SGD')\n",
    "ax.semilogy(passes_SVRG, np.array(obj_SVRG)-opt, color='r', linewidth=2, label='SVRG')\n",
    "plt.legend(prop={'size':12})\n",
    "plt.xlabel('No. of Passes ')\n",
    "plt.ylabel('Objective Error')"
   ]
  },
  {
   "cell_type": "code",
   "execution_count": null,
   "metadata": {
    "collapsed": true
   },
   "outputs": [],
   "source": []
  }
 ],
 "metadata": {
  "anaconda-cloud": {},
  "kernelspec": {
   "display_name": "Python [conda root]",
   "language": "python",
   "name": "conda-root-py"
  },
  "language_info": {
   "codemirror_mode": {
    "name": "ipython",
    "version": 3
   },
   "file_extension": ".py",
   "mimetype": "text/x-python",
   "name": "python",
   "nbconvert_exporter": "python",
   "pygments_lexer": "ipython3",
   "version": "3.5.2"
  }
 },
 "nbformat": 4,
 "nbformat_minor": 0
}