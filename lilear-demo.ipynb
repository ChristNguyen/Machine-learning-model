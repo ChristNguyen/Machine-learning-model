{
 "cells": [
  {
   "cell_type": "code",
   "execution_count": 3,
   "metadata": {},
   "outputs": [
    {
     "data": {
      "text/plain": [
       "126-element Array{Float64,1}:\n",
       " -6.283185307179586 \n",
       " -6.183185307179587 \n",
       " -6.083185307179586 \n",
       " -5.983185307179586 \n",
       " -5.883185307179586 \n",
       " -5.783185307179586 \n",
       " -5.683185307179587 \n",
       " -5.583185307179586 \n",
       " -5.483185307179586 \n",
       " -5.383185307179586 \n",
       " -5.283185307179586 \n",
       " -5.183185307179587 \n",
       " -5.083185307179586 \n",
       "  ⋮                 \n",
       "  5.116814692820414 \n",
       "  5.216814692820414 \n",
       "  5.316814692820415 \n",
       "  5.416814692820415 \n",
       "  5.5168146928204145\n",
       "  5.616814692820414 \n",
       "  5.716814692820414 \n",
       "  5.816814692820415 \n",
       "  5.916814692820415 \n",
       "  6.0168146928204145\n",
       "  6.116814692820414 \n",
       "  6.216814692820414 "
      ]
     },
     "execution_count": 3,
     "metadata": {},
     "output_type": "execute_result"
    }
   ],
   "source": [
    "using Plots\n",
    "\n",
    "# y = sin(x)\n",
    "\n",
    "x = collect(-2*pi:0.1:2*pi)"
   ]
  },
  {
   "cell_type": "code",
   "execution_count": 4,
   "metadata": {},
   "outputs": [
    {
     "data": {
      "text/plain": [
       "126-element Array{Float64,1}:\n",
       "  2.4492935982947064e-16\n",
       "  0.09983341664682804   \n",
       "  0.19866933079506163   \n",
       "  0.29552020666133966   \n",
       "  0.389418342308651     \n",
       "  0.4794255386042032    \n",
       "  0.5646424733950353    \n",
       "  0.6442176872376913    \n",
       "  0.7173560908995228    \n",
       "  0.7833269096274837    \n",
       "  0.8414709848078966    \n",
       "  0.8912073600614353    \n",
       "  0.9320390859672265    \n",
       "  ⋮                     \n",
       " -0.9193285256646756    \n",
       " -0.8754521746884284    \n",
       " -0.8228285949687076    \n",
       " -0.761983583919032     \n",
       " -0.6935250847771222    \n",
       " -0.6181371122370332    \n",
       " -0.5365729180004347    \n",
       " -0.44964746453459964   \n",
       " -0.3582292822368268    \n",
       " -0.2632317913658007    \n",
       " -0.16560417544830916   \n",
       " -0.06632189735120045   "
      ]
     },
     "execution_count": 4,
     "metadata": {},
     "output_type": "execute_result"
    }
   ],
   "source": [
    "y = sin.(x)"
   ]
  },
  {
   "cell_type": "code",
   "execution_count": 6,
   "metadata": {},
   "outputs": [
    {
     "data": {
      "image/svg+xml": [
       "<?xml version=\"1.0\" encoding=\"utf-8\"?>\n",
       "<svg xmlns=\"http://www.w3.org/2000/svg\" xmlns:xlink=\"http://www.w3.org/1999/xlink\" width=\"600\" height=\"400\" viewBox=\"0 0 2400 1600\">\n",
       "<defs>\n",
       "  <clipPath id=\"clip3300\">\n",
       "    <rect x=\"0\" y=\"0\" width=\"2400\" height=\"1600\"/>\n",
       "  </clipPath>\n",
       "</defs>\n",
       "<path clip-path=\"url(#clip3300)\" d=\"\n",
       "M0 1600 L2400 1600 L2400 0 L0 0  Z\n",
       "  \" fill=\"#ffffff\" fill-rule=\"evenodd\" fill-opacity=\"1\"/>\n",
       "<defs>\n",
       "  <clipPath id=\"clip3301\">\n",
       "    <rect x=\"480\" y=\"0\" width=\"1681\" height=\"1600\"/>\n",
       "  </clipPath>\n",
       "</defs>\n",
       "<path clip-path=\"url(#clip3300)\" d=\"\n",
       "M182.008 1487.47 L2352.76 1487.47 L2352.76 47.2441 L182.008 47.2441  Z\n",
       "  \" fill=\"#ffffff\" fill-rule=\"evenodd\" fill-opacity=\"1\"/>\n",
       "<defs>\n",
       "  <clipPath id=\"clip3302\">\n",
       "    <rect x=\"182\" y=\"47\" width=\"2172\" height=\"1441\"/>\n",
       "  </clipPath>\n",
       "</defs>\n",
       "<polyline clip-path=\"url(#clip3302)\" style=\"stroke:#000000; stroke-width:2; stroke-opacity:0.1; fill:none\" points=\"\n",
       "  453.669,1487.47 453.669,47.2441 \n",
       "  \"/>\n",
       "<polyline clip-path=\"url(#clip3302)\" style=\"stroke:#000000; stroke-width:2; stroke-opacity:0.1; fill:none\" points=\"\n",
       "  863.244,1487.47 863.244,47.2441 \n",
       "  \"/>\n",
       "<polyline clip-path=\"url(#clip3302)\" style=\"stroke:#000000; stroke-width:2; stroke-opacity:0.1; fill:none\" points=\"\n",
       "  1272.82,1487.47 1272.82,47.2441 \n",
       "  \"/>\n",
       "<polyline clip-path=\"url(#clip3302)\" style=\"stroke:#000000; stroke-width:2; stroke-opacity:0.1; fill:none\" points=\"\n",
       "  1682.39,1487.47 1682.39,47.2441 \n",
       "  \"/>\n",
       "<polyline clip-path=\"url(#clip3302)\" style=\"stroke:#000000; stroke-width:2; stroke-opacity:0.1; fill:none\" points=\"\n",
       "  2091.97,1487.47 2091.97,47.2441 \n",
       "  \"/>\n",
       "<polyline clip-path=\"url(#clip3302)\" style=\"stroke:#000000; stroke-width:2; stroke-opacity:0.1; fill:none\" points=\"\n",
       "  182.008,1446.72 2352.76,1446.72 \n",
       "  \"/>\n",
       "<polyline clip-path=\"url(#clip3302)\" style=\"stroke:#000000; stroke-width:2; stroke-opacity:0.1; fill:none\" points=\"\n",
       "  182.008,1106.97 2352.76,1106.97 \n",
       "  \"/>\n",
       "<polyline clip-path=\"url(#clip3302)\" style=\"stroke:#000000; stroke-width:2; stroke-opacity:0.1; fill:none\" points=\"\n",
       "  182.008,767.218 2352.76,767.218 \n",
       "  \"/>\n",
       "<polyline clip-path=\"url(#clip3302)\" style=\"stroke:#000000; stroke-width:2; stroke-opacity:0.1; fill:none\" points=\"\n",
       "  182.008,427.467 2352.76,427.467 \n",
       "  \"/>\n",
       "<polyline clip-path=\"url(#clip3302)\" style=\"stroke:#000000; stroke-width:2; stroke-opacity:0.1; fill:none\" points=\"\n",
       "  182.008,87.7156 2352.76,87.7156 \n",
       "  \"/>\n",
       "<polyline clip-path=\"url(#clip3300)\" style=\"stroke:#000000; stroke-width:4; stroke-opacity:1; fill:none\" points=\"\n",
       "  182.008,1487.47 2352.76,1487.47 \n",
       "  \"/>\n",
       "<polyline clip-path=\"url(#clip3300)\" style=\"stroke:#000000; stroke-width:4; stroke-opacity:1; fill:none\" points=\"\n",
       "  182.008,1487.47 182.008,47.2441 \n",
       "  \"/>\n",
       "<polyline clip-path=\"url(#clip3300)\" style=\"stroke:#000000; stroke-width:4; stroke-opacity:1; fill:none\" points=\"\n",
       "  453.669,1487.47 453.669,1470.19 \n",
       "  \"/>\n",
       "<polyline clip-path=\"url(#clip3300)\" style=\"stroke:#000000; stroke-width:4; stroke-opacity:1; fill:none\" points=\"\n",
       "  863.244,1487.47 863.244,1470.19 \n",
       "  \"/>\n",
       "<polyline clip-path=\"url(#clip3300)\" style=\"stroke:#000000; stroke-width:4; stroke-opacity:1; fill:none\" points=\"\n",
       "  1272.82,1487.47 1272.82,1470.19 \n",
       "  \"/>\n",
       "<polyline clip-path=\"url(#clip3300)\" style=\"stroke:#000000; stroke-width:4; stroke-opacity:1; fill:none\" points=\"\n",
       "  1682.39,1487.47 1682.39,1470.19 \n",
       "  \"/>\n",
       "<polyline clip-path=\"url(#clip3300)\" style=\"stroke:#000000; stroke-width:4; stroke-opacity:1; fill:none\" points=\"\n",
       "  2091.97,1487.47 2091.97,1470.19 \n",
       "  \"/>\n",
       "<polyline clip-path=\"url(#clip3300)\" style=\"stroke:#000000; stroke-width:4; stroke-opacity:1; fill:none\" points=\"\n",
       "  182.008,1446.72 208.057,1446.72 \n",
       "  \"/>\n",
       "<polyline clip-path=\"url(#clip3300)\" style=\"stroke:#000000; stroke-width:4; stroke-opacity:1; fill:none\" points=\"\n",
       "  182.008,1106.97 208.057,1106.97 \n",
       "  \"/>\n",
       "<polyline clip-path=\"url(#clip3300)\" style=\"stroke:#000000; stroke-width:4; stroke-opacity:1; fill:none\" points=\"\n",
       "  182.008,767.218 208.057,767.218 \n",
       "  \"/>\n",
       "<polyline clip-path=\"url(#clip3300)\" style=\"stroke:#000000; stroke-width:4; stroke-opacity:1; fill:none\" points=\"\n",
       "  182.008,427.467 208.057,427.467 \n",
       "  \"/>\n",
       "<polyline clip-path=\"url(#clip3300)\" style=\"stroke:#000000; stroke-width:4; stroke-opacity:1; fill:none\" points=\"\n",
       "  182.008,87.7156 208.057,87.7156 \n",
       "  \"/>\n",
       "<g clip-path=\"url(#clip3300)\">\n",
       "<text style=\"fill:#000000; fill-opacity:1; font-family:Arial,Helvetica Neue,Helvetica,sans-serif; font-size:48px; text-anchor:middle;\" transform=\"rotate(0, 453.669, 1541.47)\" x=\"453.669\" y=\"1541.47\">-5.0</text>\n",
       "</g>\n",
       "<g clip-path=\"url(#clip3300)\">\n",
       "<text style=\"fill:#000000; fill-opacity:1; font-family:Arial,Helvetica Neue,Helvetica,sans-serif; font-size:48px; text-anchor:middle;\" transform=\"rotate(0, 863.244, 1541.47)\" x=\"863.244\" y=\"1541.47\">-2.5</text>\n",
       "</g>\n",
       "<g clip-path=\"url(#clip3300)\">\n",
       "<text style=\"fill:#000000; fill-opacity:1; font-family:Arial,Helvetica Neue,Helvetica,sans-serif; font-size:48px; text-anchor:middle;\" transform=\"rotate(0, 1272.82, 1541.47)\" x=\"1272.82\" y=\"1541.47\">0.0</text>\n",
       "</g>\n",
       "<g clip-path=\"url(#clip3300)\">\n",
       "<text style=\"fill:#000000; fill-opacity:1; font-family:Arial,Helvetica Neue,Helvetica,sans-serif; font-size:48px; text-anchor:middle;\" transform=\"rotate(0, 1682.39, 1541.47)\" x=\"1682.39\" y=\"1541.47\">2.5</text>\n",
       "</g>\n",
       "<g clip-path=\"url(#clip3300)\">\n",
       "<text style=\"fill:#000000; fill-opacity:1; font-family:Arial,Helvetica Neue,Helvetica,sans-serif; font-size:48px; text-anchor:middle;\" transform=\"rotate(0, 2091.97, 1541.47)\" x=\"2091.97\" y=\"1541.47\">5.0</text>\n",
       "</g>\n",
       "<g clip-path=\"url(#clip3300)\">\n",
       "<text style=\"fill:#000000; fill-opacity:1; font-family:Arial,Helvetica Neue,Helvetica,sans-serif; font-size:48px; text-anchor:end;\" transform=\"rotate(0, 158.008, 1464.22)\" x=\"158.008\" y=\"1464.22\">-1.0</text>\n",
       "</g>\n",
       "<g clip-path=\"url(#clip3300)\">\n",
       "<text style=\"fill:#000000; fill-opacity:1; font-family:Arial,Helvetica Neue,Helvetica,sans-serif; font-size:48px; text-anchor:end;\" transform=\"rotate(0, 158.008, 1124.47)\" x=\"158.008\" y=\"1124.47\">-0.5</text>\n",
       "</g>\n",
       "<g clip-path=\"url(#clip3300)\">\n",
       "<text style=\"fill:#000000; fill-opacity:1; font-family:Arial,Helvetica Neue,Helvetica,sans-serif; font-size:48px; text-anchor:end;\" transform=\"rotate(0, 158.008, 784.718)\" x=\"158.008\" y=\"784.718\">0.0</text>\n",
       "</g>\n",
       "<g clip-path=\"url(#clip3300)\">\n",
       "<text style=\"fill:#000000; fill-opacity:1; font-family:Arial,Helvetica Neue,Helvetica,sans-serif; font-size:48px; text-anchor:end;\" transform=\"rotate(0, 158.008, 444.967)\" x=\"158.008\" y=\"444.967\">0.5</text>\n",
       "</g>\n",
       "<g clip-path=\"url(#clip3300)\">\n",
       "<text style=\"fill:#000000; fill-opacity:1; font-family:Arial,Helvetica Neue,Helvetica,sans-serif; font-size:48px; text-anchor:end;\" transform=\"rotate(0, 158.008, 105.216)\" x=\"158.008\" y=\"105.216\">1.0</text>\n",
       "</g>\n",
       "<polyline clip-path=\"url(#clip3302)\" style=\"stroke:#009af9; stroke-width:4; stroke-opacity:1; fill:none\" points=\"\n",
       "  243.444,767.218 259.827,699.381 276.21,632.222 292.593,566.411 308.976,502.607 325.359,441.447 341.742,383.542 358.125,329.47 374.508,279.773 390.891,234.945 \n",
       "  407.274,195.436 423.657,161.64 440.04,133.895 456.423,112.478 472.806,97.6025 489.189,89.4178 505.572,88.0053 521.955,93.3794 538.338,105.486 554.721,124.205 \n",
       "  571.104,149.348 587.487,180.665 603.87,217.843 620.253,260.509 636.636,308.239 653.019,360.555 669.402,416.934 685.785,476.812 702.168,539.593 718.551,604.647 \n",
       "  734.934,671.327 751.317,738.964 767.7,806.883 784.083,874.406 800.466,940.859 816.849,1005.58 833.232,1067.91 849.615,1127.24 865.998,1182.98 882.381,1234.56 \n",
       "  898.764,1281.47 915.147,1323.24 931.53,1359.46 947.913,1389.75 964.296,1413.83 980.679,1431.45 997.062,1442.43 1013.45,1446.67 1029.83,1444.11 1046.21,1434.8 \n",
       "  1062.59,1418.81 1078.98,1396.31 1095.36,1367.53 1111.74,1332.75 1128.13,1292.31 1144.51,1246.63 1160.89,1196.16 1177.28,1141.41 1193.66,1082.92 1210.04,1021.27 \n",
       "  1226.42,957.081 1242.81,890.998 1259.19,823.677 1275.57,755.793 1291.96,688.022 1308.34,621.043 1324.72,555.525 1341.11,492.121 1357.49,431.467 1373.87,374.167 \n",
       "  1390.25,320.794 1406.64,271.882 1423.02,227.919 1439.4,189.344 1455.79,156.544 1472.17,129.845 1488.55,109.514 1504.94,95.7553 1521.32,88.7054 1537.7,88.435 \n",
       "  1554.08,94.9467 1570.47,108.176 1586.85,127.989 1603.23,154.19 1619.62,186.516 1636,224.644 1652.38,268.193 1668.77,316.729 1685.15,369.765 1701.53,426.773 \n",
       "  1717.91,487.182 1734.3,550.39 1750.68,615.764 1767.06,682.651 1783.45,750.383 1799.83,818.283 1816.21,885.673 1832.6,951.88 1848.98,1016.24 1865.36,1078.11 \n",
       "  1881.74,1136.88 1898.13,1191.95 1914.51,1242.78 1930.89,1288.86 1947.28,1329.73 1963.66,1364.97 1980.04,1394.25 1996.43,1417.25 2012.81,1433.77 2029.19,1443.62 \n",
       "  2045.57,1446.71 2061.96,1443.02 2078.34,1432.57 2094.72,1415.48 2111.11,1391.9 2127.49,1362.09 2143.87,1326.33 2160.26,1284.99 2176.64,1238.47 2193.02,1187.24 \n",
       "  2209.4,1131.82 2225.79,1072.75 2242.17,1010.64 2258.55,946.084 2274.94,879.746 2291.32,812.284 \n",
       "  \"/>\n",
       "<path clip-path=\"url(#clip3300)\" d=\"\n",
       "M1979.24 251.724 L2280.76 251.724 L2280.76 130.764 L1979.24 130.764  Z\n",
       "  \" fill=\"#ffffff\" fill-rule=\"evenodd\" fill-opacity=\"1\"/>\n",
       "<polyline clip-path=\"url(#clip3300)\" style=\"stroke:#000000; stroke-width:4; stroke-opacity:1; fill:none\" points=\"\n",
       "  1979.24,251.724 2280.76,251.724 2280.76,130.764 1979.24,130.764 1979.24,251.724 \n",
       "  \"/>\n",
       "<polyline clip-path=\"url(#clip3300)\" style=\"stroke:#009af9; stroke-width:4; stroke-opacity:1; fill:none\" points=\"\n",
       "  2003.24,191.244 2147.24,191.244 \n",
       "  \"/>\n",
       "<g clip-path=\"url(#clip3300)\">\n",
       "<text style=\"fill:#000000; fill-opacity:1; font-family:Arial,Helvetica Neue,Helvetica,sans-serif; font-size:48px; text-anchor:start;\" transform=\"rotate(0, 2171.24, 208.744)\" x=\"2171.24\" y=\"208.744\">sin</text>\n",
       "</g>\n",
       "</svg>\n"
      ]
     },
     "execution_count": 6,
     "metadata": {},
     "output_type": "execute_result"
    }
   ],
   "source": [
    "plot(x, y, label=\"sin\")"
   ]
  },
  {
   "cell_type": "code",
   "execution_count": 7,
   "metadata": {},
   "outputs": [
    {
     "data": {
      "text/plain": [
       "17×2 Array{Float64,2}:\n",
       " 194.5  20.79\n",
       " 194.3  20.79\n",
       " 197.9  22.4 \n",
       " 198.4  22.67\n",
       " 199.4  23.15\n",
       " 199.9  23.35\n",
       " 200.9  23.89\n",
       " 201.1  23.99\n",
       " 201.4  24.02\n",
       " 201.3  24.01\n",
       " 203.6  25.14\n",
       " 204.6  26.57\n",
       " 209.5  28.49\n",
       " 208.6  27.76\n",
       " 210.7  29.04\n",
       " 211.9  29.88\n",
       " 212.2  30.06"
      ]
     },
     "execution_count": 7,
     "metadata": {},
     "output_type": "execute_result"
    }
   ],
   "source": [
    "using DelimitedFiles\n",
    "\n",
    "A = readdlm(\"../dat/forbes.txt\")"
   ]
  },
  {
   "cell_type": "code",
   "execution_count": 13,
   "metadata": {},
   "outputs": [
    {
     "data": {
      "image/svg+xml": [
       "<?xml version=\"1.0\" encoding=\"utf-8\"?>\n",
       "<svg xmlns=\"http://www.w3.org/2000/svg\" xmlns:xlink=\"http://www.w3.org/1999/xlink\" width=\"600\" height=\"400\" viewBox=\"0 0 2400 1600\">\n",
       "<defs>\n",
       "  <clipPath id=\"clip5700\">\n",
       "    <rect x=\"0\" y=\"0\" width=\"2400\" height=\"1600\"/>\n",
       "  </clipPath>\n",
       "</defs>\n",
       "<path clip-path=\"url(#clip5700)\" d=\"\n",
       "M0 1600 L2400 1600 L2400 0 L0 0  Z\n",
       "  \" fill=\"#ffffff\" fill-rule=\"evenodd\" fill-opacity=\"1\"/>\n",
       "<defs>\n",
       "  <clipPath id=\"clip5701\">\n",
       "    <rect x=\"480\" y=\"0\" width=\"1681\" height=\"1600\"/>\n",
       "  </clipPath>\n",
       "</defs>\n",
       "<path clip-path=\"url(#clip5700)\" d=\"\n",
       "M202.373 1425.62 L2352.76 1425.62 L2352.76 47.2441 L202.373 47.2441  Z\n",
       "  \" fill=\"#ffffff\" fill-rule=\"evenodd\" fill-opacity=\"1\"/>\n",
       "<defs>\n",
       "  <clipPath id=\"clip5702\">\n",
       "    <rect x=\"202\" y=\"47\" width=\"2151\" height=\"1379\"/>\n",
       "  </clipPath>\n",
       "</defs>\n",
       "<polyline clip-path=\"url(#clip5702)\" style=\"stroke:#000000; stroke-width:2; stroke-opacity:0.1; fill:none\" points=\"\n",
       "  342.566,1425.62 342.566,47.2441 \n",
       "  \"/>\n",
       "<polyline clip-path=\"url(#clip5702)\" style=\"stroke:#000000; stroke-width:2; stroke-opacity:0.1; fill:none\" points=\"\n",
       "  909.232,1425.62 909.232,47.2441 \n",
       "  \"/>\n",
       "<polyline clip-path=\"url(#clip5702)\" style=\"stroke:#000000; stroke-width:2; stroke-opacity:0.1; fill:none\" points=\"\n",
       "  1475.9,1425.62 1475.9,47.2441 \n",
       "  \"/>\n",
       "<polyline clip-path=\"url(#clip5702)\" style=\"stroke:#000000; stroke-width:2; stroke-opacity:0.1; fill:none\" points=\"\n",
       "  2042.56,1425.62 2042.56,47.2441 \n",
       "  \"/>\n",
       "<polyline clip-path=\"url(#clip5702)\" style=\"stroke:#000000; stroke-width:2; stroke-opacity:0.1; fill:none\" points=\"\n",
       "  202.373,1216.87 2352.76,1216.87 \n",
       "  \"/>\n",
       "<polyline clip-path=\"url(#clip5702)\" style=\"stroke:#000000; stroke-width:2; stroke-opacity:0.1; fill:none\" points=\"\n",
       "  202.373,936.324 2352.76,936.324 \n",
       "  \"/>\n",
       "<polyline clip-path=\"url(#clip5702)\" style=\"stroke:#000000; stroke-width:2; stroke-opacity:0.1; fill:none\" points=\"\n",
       "  202.373,655.773 2352.76,655.773 \n",
       "  \"/>\n",
       "<polyline clip-path=\"url(#clip5702)\" style=\"stroke:#000000; stroke-width:2; stroke-opacity:0.1; fill:none\" points=\"\n",
       "  202.373,375.222 2352.76,375.222 \n",
       "  \"/>\n",
       "<polyline clip-path=\"url(#clip5702)\" style=\"stroke:#000000; stroke-width:2; stroke-opacity:0.1; fill:none\" points=\"\n",
       "  202.373,94.6712 2352.76,94.6712 \n",
       "  \"/>\n",
       "<polyline clip-path=\"url(#clip5700)\" style=\"stroke:#000000; stroke-width:4; stroke-opacity:1; fill:none\" points=\"\n",
       "  202.373,1425.62 2352.76,1425.62 \n",
       "  \"/>\n",
       "<polyline clip-path=\"url(#clip5700)\" style=\"stroke:#000000; stroke-width:4; stroke-opacity:1; fill:none\" points=\"\n",
       "  202.373,1425.62 202.373,47.2441 \n",
       "  \"/>\n",
       "<polyline clip-path=\"url(#clip5700)\" style=\"stroke:#000000; stroke-width:4; stroke-opacity:1; fill:none\" points=\"\n",
       "  342.566,1425.62 342.566,1409.08 \n",
       "  \"/>\n",
       "<polyline clip-path=\"url(#clip5700)\" style=\"stroke:#000000; stroke-width:4; stroke-opacity:1; fill:none\" points=\"\n",
       "  909.232,1425.62 909.232,1409.08 \n",
       "  \"/>\n",
       "<polyline clip-path=\"url(#clip5700)\" style=\"stroke:#000000; stroke-width:4; stroke-opacity:1; fill:none\" points=\"\n",
       "  1475.9,1425.62 1475.9,1409.08 \n",
       "  \"/>\n",
       "<polyline clip-path=\"url(#clip5700)\" style=\"stroke:#000000; stroke-width:4; stroke-opacity:1; fill:none\" points=\"\n",
       "  2042.56,1425.62 2042.56,1409.08 \n",
       "  \"/>\n",
       "<polyline clip-path=\"url(#clip5700)\" style=\"stroke:#000000; stroke-width:4; stroke-opacity:1; fill:none\" points=\"\n",
       "  202.373,1216.87 228.178,1216.87 \n",
       "  \"/>\n",
       "<polyline clip-path=\"url(#clip5700)\" style=\"stroke:#000000; stroke-width:4; stroke-opacity:1; fill:none\" points=\"\n",
       "  202.373,936.324 228.178,936.324 \n",
       "  \"/>\n",
       "<polyline clip-path=\"url(#clip5700)\" style=\"stroke:#000000; stroke-width:4; stroke-opacity:1; fill:none\" points=\"\n",
       "  202.373,655.773 228.178,655.773 \n",
       "  \"/>\n",
       "<polyline clip-path=\"url(#clip5700)\" style=\"stroke:#000000; stroke-width:4; stroke-opacity:1; fill:none\" points=\"\n",
       "  202.373,375.222 228.178,375.222 \n",
       "  \"/>\n",
       "<polyline clip-path=\"url(#clip5700)\" style=\"stroke:#000000; stroke-width:4; stroke-opacity:1; fill:none\" points=\"\n",
       "  202.373,94.6712 228.178,94.6712 \n",
       "  \"/>\n",
       "<g clip-path=\"url(#clip5700)\">\n",
       "<text style=\"fill:#000000; fill-opacity:1; font-family:Arial,Helvetica Neue,Helvetica,sans-serif; font-size:48px; text-anchor:middle;\" transform=\"rotate(0, 342.566, 1479.62)\" x=\"342.566\" y=\"1479.62\">195</text>\n",
       "</g>\n",
       "<g clip-path=\"url(#clip5700)\">\n",
       "<text style=\"fill:#000000; fill-opacity:1; font-family:Arial,Helvetica Neue,Helvetica,sans-serif; font-size:48px; text-anchor:middle;\" transform=\"rotate(0, 909.232, 1479.62)\" x=\"909.232\" y=\"1479.62\">200</text>\n",
       "</g>\n",
       "<g clip-path=\"url(#clip5700)\">\n",
       "<text style=\"fill:#000000; fill-opacity:1; font-family:Arial,Helvetica Neue,Helvetica,sans-serif; font-size:48px; text-anchor:middle;\" transform=\"rotate(0, 1475.9, 1479.62)\" x=\"1475.9\" y=\"1479.62\">205</text>\n",
       "</g>\n",
       "<g clip-path=\"url(#clip5700)\">\n",
       "<text style=\"fill:#000000; fill-opacity:1; font-family:Arial,Helvetica Neue,Helvetica,sans-serif; font-size:48px; text-anchor:middle;\" transform=\"rotate(0, 2042.56, 1479.62)\" x=\"2042.56\" y=\"1479.62\">210</text>\n",
       "</g>\n",
       "<g clip-path=\"url(#clip5700)\">\n",
       "<text style=\"fill:#000000; fill-opacity:1; font-family:Arial,Helvetica Neue,Helvetica,sans-serif; font-size:48px; text-anchor:end;\" transform=\"rotate(0, 178.373, 1234.37)\" x=\"178.373\" y=\"1234.37\">22</text>\n",
       "</g>\n",
       "<g clip-path=\"url(#clip5700)\">\n",
       "<text style=\"fill:#000000; fill-opacity:1; font-family:Arial,Helvetica Neue,Helvetica,sans-serif; font-size:48px; text-anchor:end;\" transform=\"rotate(0, 178.373, 953.824)\" x=\"178.373\" y=\"953.824\">24</text>\n",
       "</g>\n",
       "<g clip-path=\"url(#clip5700)\">\n",
       "<text style=\"fill:#000000; fill-opacity:1; font-family:Arial,Helvetica Neue,Helvetica,sans-serif; font-size:48px; text-anchor:end;\" transform=\"rotate(0, 178.373, 673.273)\" x=\"178.373\" y=\"673.273\">26</text>\n",
       "</g>\n",
       "<g clip-path=\"url(#clip5700)\">\n",
       "<text style=\"fill:#000000; fill-opacity:1; font-family:Arial,Helvetica Neue,Helvetica,sans-serif; font-size:48px; text-anchor:end;\" transform=\"rotate(0, 178.373, 392.722)\" x=\"178.373\" y=\"392.722\">28</text>\n",
       "</g>\n",
       "<g clip-path=\"url(#clip5700)\">\n",
       "<text style=\"fill:#000000; fill-opacity:1; font-family:Arial,Helvetica Neue,Helvetica,sans-serif; font-size:48px; text-anchor:end;\" transform=\"rotate(0, 178.373, 112.171)\" x=\"178.373\" y=\"112.171\">30</text>\n",
       "</g>\n",
       "<g clip-path=\"url(#clip5700)\">\n",
       "<text style=\"fill:#000000; fill-opacity:1; font-family:Arial,Helvetica Neue,Helvetica,sans-serif; font-size:66px; text-anchor:middle;\" transform=\"rotate(0, 1277.56, 1559.48)\" x=\"1277.56\" y=\"1559.48\">temperature</text>\n",
       "</g>\n",
       "<g clip-path=\"url(#clip5700)\">\n",
       "<text style=\"fill:#000000; fill-opacity:1; font-family:Arial,Helvetica Neue,Helvetica,sans-serif; font-size:66px; text-anchor:middle;\" transform=\"rotate(-90, 89.2861, 736.431)\" x=\"89.2861\" y=\"736.431\">pressure</text>\n",
       "</g>\n",
       "<circle clip-path=\"url(#clip5702)\" cx=\"285.899\" cy=\"1386.61\" r=\"28\" fill=\"#ff0000\" fill-rule=\"evenodd\" fill-opacity=\"1\" stroke=\"#000000\" stroke-opacity=\"1\" stroke-width=\"3.2\"/>\n",
       "<circle clip-path=\"url(#clip5702)\" cx=\"263.233\" cy=\"1386.61\" r=\"28\" fill=\"#ff0000\" fill-rule=\"evenodd\" fill-opacity=\"1\" stroke=\"#000000\" stroke-opacity=\"1\" stroke-width=\"3.2\"/>\n",
       "<circle clip-path=\"url(#clip5702)\" cx=\"671.232\" cy=\"1160.76\" r=\"28\" fill=\"#ff0000\" fill-rule=\"evenodd\" fill-opacity=\"1\" stroke=\"#000000\" stroke-opacity=\"1\" stroke-width=\"3.2\"/>\n",
       "<circle clip-path=\"url(#clip5702)\" cx=\"727.899\" cy=\"1122.89\" r=\"28\" fill=\"#ff0000\" fill-rule=\"evenodd\" fill-opacity=\"1\" stroke=\"#000000\" stroke-opacity=\"1\" stroke-width=\"3.2\"/>\n",
       "<circle clip-path=\"url(#clip5702)\" cx=\"841.232\" cy=\"1055.56\" r=\"28\" fill=\"#ff0000\" fill-rule=\"evenodd\" fill-opacity=\"1\" stroke=\"#000000\" stroke-opacity=\"1\" stroke-width=\"3.2\"/>\n",
       "<circle clip-path=\"url(#clip5702)\" cx=\"897.898\" cy=\"1027.5\" r=\"28\" fill=\"#ff0000\" fill-rule=\"evenodd\" fill-opacity=\"1\" stroke=\"#000000\" stroke-opacity=\"1\" stroke-width=\"3.2\"/>\n",
       "<circle clip-path=\"url(#clip5702)\" cx=\"1011.23\" cy=\"951.754\" r=\"28\" fill=\"#ff0000\" fill-rule=\"evenodd\" fill-opacity=\"1\" stroke=\"#000000\" stroke-opacity=\"1\" stroke-width=\"3.2\"/>\n",
       "<circle clip-path=\"url(#clip5702)\" cx=\"1033.9\" cy=\"937.727\" r=\"28\" fill=\"#ff0000\" fill-rule=\"evenodd\" fill-opacity=\"1\" stroke=\"#000000\" stroke-opacity=\"1\" stroke-width=\"3.2\"/>\n",
       "<circle clip-path=\"url(#clip5702)\" cx=\"1067.9\" cy=\"933.518\" r=\"28\" fill=\"#ff0000\" fill-rule=\"evenodd\" fill-opacity=\"1\" stroke=\"#000000\" stroke-opacity=\"1\" stroke-width=\"3.2\"/>\n",
       "<circle clip-path=\"url(#clip5702)\" cx=\"1056.56\" cy=\"934.921\" r=\"28\" fill=\"#ff0000\" fill-rule=\"evenodd\" fill-opacity=\"1\" stroke=\"#000000\" stroke-opacity=\"1\" stroke-width=\"3.2\"/>\n",
       "<circle clip-path=\"url(#clip5702)\" cx=\"1317.23\" cy=\"776.41\" r=\"28\" fill=\"#ff0000\" fill-rule=\"evenodd\" fill-opacity=\"1\" stroke=\"#000000\" stroke-opacity=\"1\" stroke-width=\"3.2\"/>\n",
       "<circle clip-path=\"url(#clip5702)\" cx=\"1430.56\" cy=\"575.816\" r=\"28\" fill=\"#ff0000\" fill-rule=\"evenodd\" fill-opacity=\"1\" stroke=\"#000000\" stroke-opacity=\"1\" stroke-width=\"3.2\"/>\n",
       "<circle clip-path=\"url(#clip5702)\" cx=\"1985.9\" cy=\"306.487\" r=\"28\" fill=\"#ff0000\" fill-rule=\"evenodd\" fill-opacity=\"1\" stroke=\"#000000\" stroke-opacity=\"1\" stroke-width=\"3.2\"/>\n",
       "<circle clip-path=\"url(#clip5702)\" cx=\"1883.9\" cy=\"408.888\" r=\"28\" fill=\"#ff0000\" fill-rule=\"evenodd\" fill-opacity=\"1\" stroke=\"#000000\" stroke-opacity=\"1\" stroke-width=\"3.2\"/>\n",
       "<circle clip-path=\"url(#clip5702)\" cx=\"2121.9\" cy=\"229.336\" r=\"28\" fill=\"#ff0000\" fill-rule=\"evenodd\" fill-opacity=\"1\" stroke=\"#000000\" stroke-opacity=\"1\" stroke-width=\"3.2\"/>\n",
       "<circle clip-path=\"url(#clip5702)\" cx=\"2257.9\" cy=\"111.504\" r=\"28\" fill=\"#ff0000\" fill-rule=\"evenodd\" fill-opacity=\"1\" stroke=\"#000000\" stroke-opacity=\"1\" stroke-width=\"3.2\"/>\n",
       "<circle clip-path=\"url(#clip5702)\" cx=\"2291.9\" cy=\"86.2547\" r=\"28\" fill=\"#ff0000\" fill-rule=\"evenodd\" fill-opacity=\"1\" stroke=\"#000000\" stroke-opacity=\"1\" stroke-width=\"3.2\"/>\n",
       "</svg>\n"
      ]
     },
     "execution_count": 13,
     "metadata": {},
     "output_type": "execute_result"
    }
   ],
   "source": [
    "scatter(A[:,1], A[:,2], label=\"\", xlabel=\"temperature\", ylabel=\"pressure\", markersize=8, color=:red)"
   ]
  },
  {
   "cell_type": "code",
   "execution_count": 14,
   "metadata": {},
   "outputs": [
    {
     "data": {
      "text/plain": [
       "17-element Array{Float64,1}:\n",
       " 194.5\n",
       " 194.3\n",
       " 197.9\n",
       " 198.4\n",
       " 199.4\n",
       " 199.9\n",
       " 200.9\n",
       " 201.1\n",
       " 201.4\n",
       " 201.3\n",
       " 203.6\n",
       " 204.6\n",
       " 209.5\n",
       " 208.6\n",
       " 210.7\n",
       " 211.9\n",
       " 212.2"
      ]
     },
     "execution_count": 14,
     "metadata": {},
     "output_type": "execute_result"
    }
   ],
   "source": [
    "# Linear Regression: pressure = θ_0 + θ_1 * temperature (y = θ_0 + θ_1 x) => θ = [θ_0; θ_1] = ?\n",
    "x = A[:,1]"
   ]
  },
  {
   "cell_type": "code",
   "execution_count": 17,
   "metadata": {},
   "outputs": [
    {
     "data": {
      "text/plain": [
       "17"
      ]
     },
     "execution_count": 17,
     "metadata": {},
     "output_type": "execute_result"
    }
   ],
   "source": [
    "N = length(x)"
   ]
  },
  {
   "cell_type": "code",
   "execution_count": 18,
   "metadata": {},
   "outputs": [
    {
     "data": {
      "text/plain": [
       "17-element Array{Float64,1}:\n",
       " 1.0\n",
       " 1.0\n",
       " 1.0\n",
       " 1.0\n",
       " 1.0\n",
       " 1.0\n",
       " 1.0\n",
       " 1.0\n",
       " 1.0\n",
       " 1.0\n",
       " 1.0\n",
       " 1.0\n",
       " 1.0\n",
       " 1.0\n",
       " 1.0\n",
       " 1.0\n",
       " 1.0"
      ]
     },
     "execution_count": 18,
     "metadata": {},
     "output_type": "execute_result"
    }
   ],
   "source": [
    "ones(N)"
   ]
  },
  {
   "cell_type": "code",
   "execution_count": 25,
   "metadata": {},
   "outputs": [
    {
     "data": {
      "text/plain": [
       "17-element Array{Float64,1}:\n",
       " 20.79\n",
       " 20.79\n",
       " 22.4 \n",
       " 22.67\n",
       " 23.15\n",
       " 23.35\n",
       " 23.89\n",
       " 23.99\n",
       " 24.02\n",
       " 24.01\n",
       " 25.14\n",
       " 26.57\n",
       " 28.49\n",
       " 27.76\n",
       " 29.04\n",
       " 29.88\n",
       " 30.06"
      ]
     },
     "execution_count": 25,
     "metadata": {},
     "output_type": "execute_result"
    }
   ],
   "source": [
    "X = hcat(ones(N), x)\n",
    "y = A[:,2]"
   ]
  },
  {
   "cell_type": "code",
   "execution_count": 27,
   "metadata": {},
   "outputs": [
    {
     "data": {
      "text/plain": [
       "2-element Array{Float64,1}:\n",
       " -81.06372712863569 \n",
       "   0.522892400784523"
      ]
     },
     "execution_count": 27,
     "metadata": {},
     "output_type": "execute_result"
    }
   ],
   "source": [
    "# Using the normal equation to estimate θ\n",
    "θ = inv(X'*X)*X'*y"
   ]
  },
  {
   "cell_type": "code",
   "execution_count": 28,
   "metadata": {},
   "outputs": [
    {
     "data": {
      "text/plain": [
       "1-element Array{Float64,1}:\n",
       " 27.697892234545094"
      ]
     },
     "execution_count": 28,
     "metadata": {},
     "output_type": "execute_result"
    }
   ],
   "source": [
    "x_208 = [1 208]\n",
    "y_208 = x_208 * θ"
   ]
  },
  {
   "cell_type": "code",
   "execution_count": 39,
   "metadata": {},
   "outputs": [
    {
     "data": {
      "image/svg+xml": [
       "<?xml version=\"1.0\" encoding=\"utf-8\"?>\n",
       "<svg xmlns=\"http://www.w3.org/2000/svg\" xmlns:xlink=\"http://www.w3.org/1999/xlink\" width=\"600\" height=\"400\" viewBox=\"0 0 2400 1600\">\n",
       "<defs>\n",
       "  <clipPath id=\"clip8500\">\n",
       "    <rect x=\"0\" y=\"0\" width=\"2400\" height=\"1600\"/>\n",
       "  </clipPath>\n",
       "</defs>\n",
       "<path clip-path=\"url(#clip8500)\" d=\"\n",
       "M0 1600 L2400 1600 L2400 0 L0 0  Z\n",
       "  \" fill=\"#ffffff\" fill-rule=\"evenodd\" fill-opacity=\"1\"/>\n",
       "<defs>\n",
       "  <clipPath id=\"clip8501\">\n",
       "    <rect x=\"480\" y=\"0\" width=\"1681\" height=\"1600\"/>\n",
       "  </clipPath>\n",
       "</defs>\n",
       "<path clip-path=\"url(#clip8500)\" d=\"\n",
       "M202.373 1425.62 L2352.76 1425.62 L2352.76 47.2441 L202.373 47.2441  Z\n",
       "  \" fill=\"#ffffff\" fill-rule=\"evenodd\" fill-opacity=\"1\"/>\n",
       "<defs>\n",
       "  <clipPath id=\"clip8502\">\n",
       "    <rect x=\"202\" y=\"47\" width=\"2151\" height=\"1379\"/>\n",
       "  </clipPath>\n",
       "</defs>\n",
       "<polyline clip-path=\"url(#clip8502)\" style=\"stroke:#000000; stroke-width:2; stroke-opacity:0.1; fill:none\" points=\"\n",
       "  370.005,1425.62 370.005,47.2441 \n",
       "  \"/>\n",
       "<polyline clip-path=\"url(#clip8502)\" style=\"stroke:#000000; stroke-width:2; stroke-opacity:0.1; fill:none\" points=\"\n",
       "  903.863,1425.62 903.863,47.2441 \n",
       "  \"/>\n",
       "<polyline clip-path=\"url(#clip8502)\" style=\"stroke:#000000; stroke-width:2; stroke-opacity:0.1; fill:none\" points=\"\n",
       "  1437.72,1425.62 1437.72,47.2441 \n",
       "  \"/>\n",
       "<polyline clip-path=\"url(#clip8502)\" style=\"stroke:#000000; stroke-width:2; stroke-opacity:0.1; fill:none\" points=\"\n",
       "  1971.58,1425.62 1971.58,47.2441 \n",
       "  \"/>\n",
       "<polyline clip-path=\"url(#clip8502)\" style=\"stroke:#000000; stroke-width:2; stroke-opacity:0.1; fill:none\" points=\"\n",
       "  202.373,1174.23 2352.76,1174.23 \n",
       "  \"/>\n",
       "<polyline clip-path=\"url(#clip8502)\" style=\"stroke:#000000; stroke-width:2; stroke-opacity:0.1; fill:none\" points=\"\n",
       "  202.373,912.458 2352.76,912.458 \n",
       "  \"/>\n",
       "<polyline clip-path=\"url(#clip8502)\" style=\"stroke:#000000; stroke-width:2; stroke-opacity:0.1; fill:none\" points=\"\n",
       "  202.373,650.684 2352.76,650.684 \n",
       "  \"/>\n",
       "<polyline clip-path=\"url(#clip8502)\" style=\"stroke:#000000; stroke-width:2; stroke-opacity:0.1; fill:none\" points=\"\n",
       "  202.373,388.911 2352.76,388.911 \n",
       "  \"/>\n",
       "<polyline clip-path=\"url(#clip8502)\" style=\"stroke:#000000; stroke-width:2; stroke-opacity:0.1; fill:none\" points=\"\n",
       "  202.373,127.138 2352.76,127.138 \n",
       "  \"/>\n",
       "<polyline clip-path=\"url(#clip8500)\" style=\"stroke:#000000; stroke-width:4; stroke-opacity:1; fill:none\" points=\"\n",
       "  202.373,1425.62 2352.76,1425.62 \n",
       "  \"/>\n",
       "<polyline clip-path=\"url(#clip8500)\" style=\"stroke:#000000; stroke-width:4; stroke-opacity:1; fill:none\" points=\"\n",
       "  202.373,1425.62 202.373,47.2441 \n",
       "  \"/>\n",
       "<polyline clip-path=\"url(#clip8500)\" style=\"stroke:#000000; stroke-width:4; stroke-opacity:1; fill:none\" points=\"\n",
       "  370.005,1425.62 370.005,1409.08 \n",
       "  \"/>\n",
       "<polyline clip-path=\"url(#clip8500)\" style=\"stroke:#000000; stroke-width:4; stroke-opacity:1; fill:none\" points=\"\n",
       "  903.863,1425.62 903.863,1409.08 \n",
       "  \"/>\n",
       "<polyline clip-path=\"url(#clip8500)\" style=\"stroke:#000000; stroke-width:4; stroke-opacity:1; fill:none\" points=\"\n",
       "  1437.72,1425.62 1437.72,1409.08 \n",
       "  \"/>\n",
       "<polyline clip-path=\"url(#clip8500)\" style=\"stroke:#000000; stroke-width:4; stroke-opacity:1; fill:none\" points=\"\n",
       "  1971.58,1425.62 1971.58,1409.08 \n",
       "  \"/>\n",
       "<polyline clip-path=\"url(#clip8500)\" style=\"stroke:#000000; stroke-width:4; stroke-opacity:1; fill:none\" points=\"\n",
       "  202.373,1174.23 228.178,1174.23 \n",
       "  \"/>\n",
       "<polyline clip-path=\"url(#clip8500)\" style=\"stroke:#000000; stroke-width:4; stroke-opacity:1; fill:none\" points=\"\n",
       "  202.373,912.458 228.178,912.458 \n",
       "  \"/>\n",
       "<polyline clip-path=\"url(#clip8500)\" style=\"stroke:#000000; stroke-width:4; stroke-opacity:1; fill:none\" points=\"\n",
       "  202.373,650.684 228.178,650.684 \n",
       "  \"/>\n",
       "<polyline clip-path=\"url(#clip8500)\" style=\"stroke:#000000; stroke-width:4; stroke-opacity:1; fill:none\" points=\"\n",
       "  202.373,388.911 228.178,388.911 \n",
       "  \"/>\n",
       "<polyline clip-path=\"url(#clip8500)\" style=\"stroke:#000000; stroke-width:4; stroke-opacity:1; fill:none\" points=\"\n",
       "  202.373,127.138 228.178,127.138 \n",
       "  \"/>\n",
       "<g clip-path=\"url(#clip8500)\">\n",
       "<text style=\"fill:#000000; fill-opacity:1; font-family:Arial,Helvetica Neue,Helvetica,sans-serif; font-size:48px; text-anchor:middle;\" transform=\"rotate(0, 370.005, 1479.62)\" x=\"370.005\" y=\"1479.62\">195</text>\n",
       "</g>\n",
       "<g clip-path=\"url(#clip8500)\">\n",
       "<text style=\"fill:#000000; fill-opacity:1; font-family:Arial,Helvetica Neue,Helvetica,sans-serif; font-size:48px; text-anchor:middle;\" transform=\"rotate(0, 903.863, 1479.62)\" x=\"903.863\" y=\"1479.62\">200</text>\n",
       "</g>\n",
       "<g clip-path=\"url(#clip8500)\">\n",
       "<text style=\"fill:#000000; fill-opacity:1; font-family:Arial,Helvetica Neue,Helvetica,sans-serif; font-size:48px; text-anchor:middle;\" transform=\"rotate(0, 1437.72, 1479.62)\" x=\"1437.72\" y=\"1479.62\">205</text>\n",
       "</g>\n",
       "<g clip-path=\"url(#clip8500)\">\n",
       "<text style=\"fill:#000000; fill-opacity:1; font-family:Arial,Helvetica Neue,Helvetica,sans-serif; font-size:48px; text-anchor:middle;\" transform=\"rotate(0, 1971.58, 1479.62)\" x=\"1971.58\" y=\"1479.62\">210</text>\n",
       "</g>\n",
       "<g clip-path=\"url(#clip8500)\">\n",
       "<text style=\"fill:#000000; fill-opacity:1; font-family:Arial,Helvetica Neue,Helvetica,sans-serif; font-size:48px; text-anchor:end;\" transform=\"rotate(0, 178.373, 1191.73)\" x=\"178.373\" y=\"1191.73\">22</text>\n",
       "</g>\n",
       "<g clip-path=\"url(#clip8500)\">\n",
       "<text style=\"fill:#000000; fill-opacity:1; font-family:Arial,Helvetica Neue,Helvetica,sans-serif; font-size:48px; text-anchor:end;\" transform=\"rotate(0, 178.373, 929.958)\" x=\"178.373\" y=\"929.958\">24</text>\n",
       "</g>\n",
       "<g clip-path=\"url(#clip8500)\">\n",
       "<text style=\"fill:#000000; fill-opacity:1; font-family:Arial,Helvetica Neue,Helvetica,sans-serif; font-size:48px; text-anchor:end;\" transform=\"rotate(0, 178.373, 668.184)\" x=\"178.373\" y=\"668.184\">26</text>\n",
       "</g>\n",
       "<g clip-path=\"url(#clip8500)\">\n",
       "<text style=\"fill:#000000; fill-opacity:1; font-family:Arial,Helvetica Neue,Helvetica,sans-serif; font-size:48px; text-anchor:end;\" transform=\"rotate(0, 178.373, 406.411)\" x=\"178.373\" y=\"406.411\">28</text>\n",
       "</g>\n",
       "<g clip-path=\"url(#clip8500)\">\n",
       "<text style=\"fill:#000000; fill-opacity:1; font-family:Arial,Helvetica Neue,Helvetica,sans-serif; font-size:48px; text-anchor:end;\" transform=\"rotate(0, 178.373, 144.638)\" x=\"178.373\" y=\"144.638\">30</text>\n",
       "</g>\n",
       "<g clip-path=\"url(#clip8500)\">\n",
       "<text style=\"fill:#000000; fill-opacity:1; font-family:Arial,Helvetica Neue,Helvetica,sans-serif; font-size:66px; text-anchor:middle;\" transform=\"rotate(0, 1277.56, 1559.48)\" x=\"1277.56\" y=\"1559.48\">temperature</text>\n",
       "</g>\n",
       "<g clip-path=\"url(#clip8500)\">\n",
       "<text style=\"fill:#000000; fill-opacity:1; font-family:Arial,Helvetica Neue,Helvetica,sans-serif; font-size:66px; text-anchor:middle;\" transform=\"rotate(-90, 89.2861, 736.431)\" x=\"89.2861\" y=\"736.431\">pressure</text>\n",
       "</g>\n",
       "<circle clip-path=\"url(#clip8502)\" cx=\"316.619\" cy=\"1332.6\" r=\"28\" fill=\"#ff0000\" fill-rule=\"evenodd\" fill-opacity=\"1\" stroke=\"#000000\" stroke-opacity=\"1\" stroke-width=\"3.2\"/>\n",
       "<circle clip-path=\"url(#clip8502)\" cx=\"295.264\" cy=\"1332.6\" r=\"28\" fill=\"#ff0000\" fill-rule=\"evenodd\" fill-opacity=\"1\" stroke=\"#000000\" stroke-opacity=\"1\" stroke-width=\"3.2\"/>\n",
       "<circle clip-path=\"url(#clip8502)\" cx=\"679.643\" cy=\"1121.88\" r=\"28\" fill=\"#ff0000\" fill-rule=\"evenodd\" fill-opacity=\"1\" stroke=\"#000000\" stroke-opacity=\"1\" stroke-width=\"3.2\"/>\n",
       "<circle clip-path=\"url(#clip8502)\" cx=\"733.028\" cy=\"1086.54\" r=\"28\" fill=\"#ff0000\" fill-rule=\"evenodd\" fill-opacity=\"1\" stroke=\"#000000\" stroke-opacity=\"1\" stroke-width=\"3.2\"/>\n",
       "<circle clip-path=\"url(#clip8502)\" cx=\"839.8\" cy=\"1023.71\" r=\"28\" fill=\"#ff0000\" fill-rule=\"evenodd\" fill-opacity=\"1\" stroke=\"#000000\" stroke-opacity=\"1\" stroke-width=\"3.2\"/>\n",
       "<circle clip-path=\"url(#clip8502)\" cx=\"893.186\" cy=\"997.534\" r=\"28\" fill=\"#ff0000\" fill-rule=\"evenodd\" fill-opacity=\"1\" stroke=\"#000000\" stroke-opacity=\"1\" stroke-width=\"3.2\"/>\n",
       "<circle clip-path=\"url(#clip8502)\" cx=\"999.958\" cy=\"926.855\" r=\"28\" fill=\"#ff0000\" fill-rule=\"evenodd\" fill-opacity=\"1\" stroke=\"#000000\" stroke-opacity=\"1\" stroke-width=\"3.2\"/>\n",
       "<circle clip-path=\"url(#clip8502)\" cx=\"1021.31\" cy=\"913.767\" r=\"28\" fill=\"#ff0000\" fill-rule=\"evenodd\" fill-opacity=\"1\" stroke=\"#000000\" stroke-opacity=\"1\" stroke-width=\"3.2\"/>\n",
       "<circle clip-path=\"url(#clip8502)\" cx=\"1053.34\" cy=\"909.84\" r=\"28\" fill=\"#ff0000\" fill-rule=\"evenodd\" fill-opacity=\"1\" stroke=\"#000000\" stroke-opacity=\"1\" stroke-width=\"3.2\"/>\n",
       "<circle clip-path=\"url(#clip8502)\" cx=\"1042.67\" cy=\"911.149\" r=\"28\" fill=\"#ff0000\" fill-rule=\"evenodd\" fill-opacity=\"1\" stroke=\"#000000\" stroke-opacity=\"1\" stroke-width=\"3.2\"/>\n",
       "<circle clip-path=\"url(#clip8502)\" cx=\"1288.24\" cy=\"763.247\" r=\"28\" fill=\"#ff0000\" fill-rule=\"evenodd\" fill-opacity=\"1\" stroke=\"#000000\" stroke-opacity=\"1\" stroke-width=\"3.2\"/>\n",
       "<circle clip-path=\"url(#clip8502)\" cx=\"1395.01\" cy=\"576.079\" r=\"28\" fill=\"#ff0000\" fill-rule=\"evenodd\" fill-opacity=\"1\" stroke=\"#000000\" stroke-opacity=\"1\" stroke-width=\"3.2\"/>\n",
       "<circle clip-path=\"url(#clip8502)\" cx=\"1918.19\" cy=\"324.777\" r=\"28\" fill=\"#ff0000\" fill-rule=\"evenodd\" fill-opacity=\"1\" stroke=\"#000000\" stroke-opacity=\"1\" stroke-width=\"3.2\"/>\n",
       "<circle clip-path=\"url(#clip8502)\" cx=\"1822.1\" cy=\"420.324\" r=\"28\" fill=\"#ff0000\" fill-rule=\"evenodd\" fill-opacity=\"1\" stroke=\"#000000\" stroke-opacity=\"1\" stroke-width=\"3.2\"/>\n",
       "<circle clip-path=\"url(#clip8502)\" cx=\"2046.32\" cy=\"252.789\" r=\"28\" fill=\"#ff0000\" fill-rule=\"evenodd\" fill-opacity=\"1\" stroke=\"#000000\" stroke-opacity=\"1\" stroke-width=\"3.2\"/>\n",
       "<circle clip-path=\"url(#clip8502)\" cx=\"2174.45\" cy=\"142.844\" r=\"28\" fill=\"#ff0000\" fill-rule=\"evenodd\" fill-opacity=\"1\" stroke=\"#000000\" stroke-opacity=\"1\" stroke-width=\"3.2\"/>\n",
       "<circle clip-path=\"url(#clip8502)\" cx=\"2206.48\" cy=\"119.285\" r=\"28\" fill=\"#ff0000\" fill-rule=\"evenodd\" fill-opacity=\"1\" stroke=\"#000000\" stroke-opacity=\"1\" stroke-width=\"3.2\"/>\n",
       "<polyline clip-path=\"url(#clip8502)\" style=\"stroke:#0000ff; stroke-width:4; stroke-opacity:1; fill:none\" points=\"\n",
       "  263.233,1386.61 268.571,1383.19 273.91,1379.76 279.249,1376.34 284.587,1372.92 289.926,1369.5 295.264,1366.08 300.603,1362.65 305.942,1359.23 311.28,1355.81 \n",
       "  316.619,1352.39 321.957,1348.97 327.296,1345.54 332.634,1342.12 337.973,1338.7 343.312,1335.28 348.65,1331.86 353.989,1328.43 359.327,1325.01 364.666,1321.59 \n",
       "  370.005,1318.17 375.343,1314.75 380.682,1311.32 386.02,1307.9 391.359,1304.48 396.697,1301.06 402.036,1297.64 407.375,1294.21 412.713,1290.79 418.052,1287.37 \n",
       "  423.39,1283.95 428.729,1280.53 434.068,1277.1 439.406,1273.68 444.745,1270.26 450.083,1266.84 455.422,1263.42 460.761,1259.99 466.099,1256.57 471.438,1253.15 \n",
       "  476.776,1249.73 482.115,1246.31 487.453,1242.88 492.792,1239.46 498.131,1236.04 503.469,1232.62 508.808,1229.2 514.146,1225.77 519.485,1222.35 524.824,1218.93 \n",
       "  530.162,1215.51 535.501,1212.09 540.839,1208.66 546.178,1205.24 551.517,1201.82 556.855,1198.4 562.194,1194.98 567.532,1191.56 572.871,1188.13 578.209,1184.71 \n",
       "  583.548,1181.29 588.887,1177.87 594.225,1174.45 599.564,1171.02 604.902,1167.6 610.241,1164.18 615.58,1160.76 620.918,1157.34 626.257,1153.91 631.595,1150.49 \n",
       "  636.934,1147.07 642.273,1143.65 647.611,1140.23 652.95,1136.8 658.288,1133.38 663.627,1129.96 668.965,1126.54 674.304,1123.12 679.643,1119.69 684.981,1116.27 \n",
       "  690.32,1112.85 695.658,1109.43 700.997,1106.01 706.336,1102.58 711.674,1099.16 717.013,1095.74 722.351,1092.32 727.69,1088.9 733.028,1085.47 738.367,1082.05 \n",
       "  743.706,1078.63 749.044,1075.21 754.383,1071.79 759.721,1068.36 765.06,1064.94 770.399,1061.52 775.737,1058.1 781.076,1054.68 786.414,1051.25 791.753,1047.83 \n",
       "  797.092,1044.41 802.43,1040.99 807.769,1037.57 813.107,1034.14 818.446,1030.72 823.784,1027.3 829.123,1023.88 834.462,1020.46 839.8,1017.03 845.139,1013.61 \n",
       "  850.477,1010.19 855.816,1006.77 861.155,1003.35 866.493,999.924 871.832,996.502 877.17,993.08 882.509,989.658 887.848,986.236 893.186,982.814 898.525,979.392 \n",
       "  903.863,975.97 909.202,972.548 914.54,969.126 919.879,965.704 925.218,962.282 930.556,958.86 935.895,955.438 941.233,952.016 946.572,948.594 951.911,945.172 \n",
       "  957.249,941.75 962.588,938.328 967.926,934.906 973.265,931.484 978.604,928.062 983.942,924.64 989.281,921.218 994.619,917.796 999.958,914.374 1005.3,910.952 \n",
       "  1010.64,907.53 1015.97,904.108 1021.31,900.687 1026.65,897.265 1031.99,893.843 1037.33,890.421 1042.67,886.999 1048.01,883.577 1053.34,880.155 1058.68,876.733 \n",
       "  1064.02,873.311 1069.36,869.889 1074.7,866.467 1080.04,863.045 1085.38,859.623 1090.71,856.201 1096.05,852.779 1101.39,849.357 1106.73,845.935 1112.07,842.513 \n",
       "  1117.41,839.091 1122.75,835.669 1128.08,832.247 1133.42,828.825 1138.76,825.403 1144.1,821.981 1149.44,818.559 1154.78,815.137 1160.12,811.715 1165.45,808.293 \n",
       "  1170.79,804.871 1176.13,801.449 1181.47,798.027 1186.81,794.605 1192.15,791.183 1197.49,787.761 1202.82,784.339 1208.16,780.917 1213.5,777.495 1218.84,774.073 \n",
       "  1224.18,770.651 1229.52,767.229 1234.86,763.807 1240.19,760.385 1245.53,756.963 1250.87,753.541 1256.21,750.119 1261.55,746.697 1266.89,743.275 1272.23,739.853 \n",
       "  1277.56,736.431 1282.9,733.009 1288.24,729.587 1293.58,726.165 1298.92,722.743 1304.26,719.321 1309.6,715.899 1314.93,712.477 1320.27,709.055 1325.61,705.634 \n",
       "  1330.95,702.212 1336.29,698.79 1341.63,695.368 1346.97,691.946 1352.3,688.524 1357.64,685.102 1362.98,681.68 1368.32,678.258 1373.66,674.836 1379,671.414 \n",
       "  1384.34,667.992 1389.67,664.57 1395.01,661.148 1400.35,657.726 1405.69,654.304 1411.03,650.882 1416.37,647.46 1421.71,644.038 1427.04,640.616 1432.38,637.194 \n",
       "  1437.72,633.772 1443.06,630.35 1448.4,626.928 1453.74,623.506 1459.08,620.084 1464.41,616.662 1469.75,613.24 1475.09,609.818 1480.43,606.396 1485.77,602.974 \n",
       "  1491.11,599.552 1496.45,596.13 1501.79,592.708 1507.12,589.286 1512.46,585.864 1517.8,582.442 1523.14,579.02 1528.48,575.598 1533.82,572.176 1539.16,568.754 \n",
       "  1544.49,565.332 1549.83,561.91 1555.17,558.488 1560.51,555.066 1565.85,551.644 1571.19,548.222 1576.53,544.8 1581.86,541.378 1587.2,537.956 1592.54,534.534 \n",
       "  1597.88,531.112 1603.22,527.69 1608.56,524.268 1613.9,520.846 1619.23,517.424 1624.57,514.002 1629.91,510.581 1635.25,507.159 1640.59,503.737 1645.93,500.315 \n",
       "  1651.27,496.893 1656.6,493.471 1661.94,490.049 1667.28,486.627 1672.62,483.205 1677.96,479.783 1683.3,476.361 1688.64,472.939 1693.97,469.517 1699.31,466.095 \n",
       "  1704.65,462.673 1709.99,459.251 1715.33,455.829 1720.67,452.407 1726.01,448.985 1731.34,445.563 1736.68,442.141 1742.02,438.719 1747.36,435.297 1752.7,431.875 \n",
       "  1758.04,428.453 1763.38,425.031 1768.71,421.609 1774.05,418.187 1779.39,414.765 1784.73,411.343 1790.07,407.921 1795.41,404.499 1800.75,401.077 1806.08,397.655 \n",
       "  1811.42,394.233 1816.76,390.811 1822.1,387.389 1827.44,383.967 1832.78,380.545 1838.12,377.123 1843.45,373.701 1848.79,370.279 1854.13,366.857 1859.47,363.435 \n",
       "  1864.81,360.013 1870.15,356.591 1875.49,353.169 1880.82,349.747 1886.16,346.325 1891.5,342.903 1896.84,339.481 1902.18,336.059 1907.52,332.637 1912.86,329.215 \n",
       "  1918.19,325.793 1923.53,322.371 1928.87,318.949 1934.21,315.528 1939.55,312.106 1944.89,308.684 1950.23,305.262 1955.57,301.84 1960.9,298.418 1966.24,294.996 \n",
       "  1971.58,291.574 1976.92,288.152 1982.26,284.73 1987.6,281.308 1992.94,277.886 1998.27,274.464 2003.61,271.042 2008.95,267.62 2014.29,264.198 2019.63,260.776 \n",
       "  2024.97,257.354 2030.31,253.932 2035.64,250.51 2040.98,247.088 2046.32,243.666 2051.66,240.244 2057,236.822 2062.34,233.4 2067.68,229.978 2073.01,226.556 \n",
       "  2078.35,223.134 2083.69,219.712 2089.03,216.29 2094.37,212.868 2099.71,209.446 2105.05,206.024 2110.38,202.602 2115.72,199.18 2121.06,195.758 2126.4,192.336 \n",
       "  2131.74,188.914 2137.08,185.492 2142.42,182.07 2147.75,178.648 2153.09,175.226 2158.43,171.804 2163.77,168.382 2169.11,164.96 2174.45,161.538 2179.79,158.116 \n",
       "  2185.12,154.694 2190.46,151.272 2195.8,147.85 2201.14,144.428 2206.48,141.006 2211.82,137.584 2217.16,134.162 2222.49,130.74 2227.83,127.318 2233.17,123.897 \n",
       "  2238.51,120.475 2243.85,117.053 2249.19,113.631 2254.53,110.209 2259.86,106.787 2265.2,103.365 2270.54,99.9426 2275.88,96.5206 2281.22,93.0987 2286.56,89.6767 \n",
       "  2291.9,86.2547 \n",
       "  \"/>\n",
       "</svg>\n"
      ]
     },
     "execution_count": 39,
     "metadata": {},
     "output_type": "execute_result"
    }
   ],
   "source": [
    "# y = x * θ // v = u * θ\n",
    "\n",
    "u = collect(194:0.05:213)\n",
    "v = hcat(ones(length(u)), u) * θ\n",
    "scatter(A[:,1], A[:,2], label=\"\", xlabel=\"temperature\", ylabel=\"pressure\", markersize=8, color=:red)\n",
    "plot!(u, v, label=\"\", color=:blue)"
   ]
  },
  {
   "cell_type": "code",
   "execution_count": 40,
   "metadata": {},
   "outputs": [
    {
     "data": {
      "text/plain": [
       "train (generic function with 1 method)"
      ]
     },
     "execution_count": 40,
     "metadata": {},
     "output_type": "execute_result"
    }
   ],
   "source": [
    "# X: design matrix of size Nx(D+1), y: output vector of length N.\n",
    "function train(X::Array{Float64,2}, y::Array{Float64})::Array{Float64}\n",
    "    inv(X'*X)*X'*y\n",
    "end"
   ]
  },
  {
   "cell_type": "code",
   "execution_count": 42,
   "metadata": {},
   "outputs": [
    {
     "data": {
      "text/plain": [
       "2-element Array{Float64,1}:\n",
       " -81.06372712863569 \n",
       "   0.522892400784523"
      ]
     },
     "execution_count": 42,
     "metadata": {},
     "output_type": "execute_result"
    }
   ],
   "source": [
    "train(X, y)"
   ]
  },
  {
   "cell_type": "code",
   "execution_count": 44,
   "metadata": {},
   "outputs": [
    {
     "data": {
      "text/plain": [
       "predict (generic function with 2 methods)"
      ]
     },
     "execution_count": 44,
     "metadata": {},
     "output_type": "execute_result"
    }
   ],
   "source": [
    "# linear regression, x is a row vector, θ is a column vector of parameters.\n",
    "function predict(x::Array{Float64}, θ::Array{Float64})\n",
    "    x * θ\n",
    "end"
   ]
  },
  {
   "cell_type": "code",
   "execution_count": 47,
   "metadata": {},
   "outputs": [
    {
     "data": {
      "text/plain": [
       "1-element Array{Float64,1}:\n",
       " 27.697892234545094"
      ]
     },
     "execution_count": 47,
     "metadata": {},
     "output_type": "execute_result"
    }
   ],
   "source": [
    "predict([1 208], θ)"
   ]
  },
  {
   "cell_type": "code",
   "execution_count": 55,
   "metadata": {},
   "outputs": [
    {
     "data": {
      "text/plain": [
       "11-element Array{Float64,1}:\n",
       "  3.0520842486138138  \n",
       " -0.4900122933442187  \n",
       " -0.021973203109976705\n",
       "  0.054974677835791345\n",
       "  0.000954771411296448\n",
       " -1.9408621097488001  \n",
       " -0.09726080785349134 \n",
       " -0.8097675232578132  \n",
       " -6.431011461417771   \n",
       " -1.011900043309533   \n",
       "  0.11929241921479505 "
      ]
     },
     "execution_count": 55,
     "metadata": {},
     "output_type": "execute_result"
    }
   ],
   "source": [
    "B = readdlm(\"../dat/wdbc.txt\", ',')\n",
    "y = B[:,2]\n",
    "N = length(y)\n",
    "X = hcat(ones(N), B[:,3:12])\n",
    "θ = train(X, y)"
   ]
  },
  {
   "cell_type": "code",
   "execution_count": 56,
   "metadata": {},
   "outputs": [
    {
     "data": {
      "text/plain": [
       "11-element Array{Float64,1}:\n",
       "   1.0    \n",
       "  14.42   \n",
       "  19.77   \n",
       "  94.48   \n",
       " 642.5    \n",
       "   0.09752\n",
       "   0.1141 \n",
       "   0.09388\n",
       "   0.05839\n",
       "   0.1879 \n",
       "   0.0639 "
      ]
     },
     "execution_count": 56,
     "metadata": {},
     "output_type": "execute_result"
    }
   ],
   "source": [
    "x_100 = X[100, :]"
   ]
  },
  {
   "cell_type": "code",
   "execution_count": 62,
   "metadata": {},
   "outputs": [
    {
     "name": "stdout",
     "output_type": "stream",
     "text": [
      "y_100 = 0.0\n",
      "prediction_100 = 0.524733648805025\n"
     ]
    }
   ],
   "source": [
    "y_100 = y[100]\n",
    "println(\"y_100 = $(y_100)\")\n",
    "prediction_100 = predict(x_100', θ)\n",
    "println(\"prediction_100 = $(prediction_100)\")"
   ]
  },
  {
   "cell_type": "code",
   "execution_count": 76,
   "metadata": {},
   "outputs": [
    {
     "data": {
      "text/plain": [
       "classify (generic function with 5 methods)"
      ]
     },
     "execution_count": 76,
     "metadata": {},
     "output_type": "execute_result"
    }
   ],
   "source": [
    "function classify(x::Array{Float64}, θ::Array{Float64}, ϵ::Float64 = 0.5)::Int\n",
    "    if predict(x', θ) < ϵ\n",
    "        0\n",
    "    else \n",
    "        1\n",
    "    end\n",
    "end\n",
    "\n",
    "function classify(X::Array{Float64,2}, θ::Array{Float64}, ϵ::Float64 = 0.5)::Array{Int}\n",
    "    N = size(X,1)\n",
    "    map(i -> classify(X[i,:], θ, ϵ), collect(1:N))\n",
    "end\n",
    "\n"
   ]
  },
  {
   "cell_type": "code",
   "execution_count": 71,
   "metadata": {},
   "outputs": [
    {
     "data": {
      "text/plain": [
       "569-element Array{Int64,1}:\n",
       " 0\n",
       " 0\n",
       " 0\n",
       " 0\n",
       " 0\n",
       " 0\n",
       " 0\n",
       " 0\n",
       " 0\n",
       " 0\n",
       " 1\n",
       " 0\n",
       " 0\n",
       " ⋮\n",
       " 1\n",
       " 1\n",
       " 1\n",
       " 1\n",
       " 1\n",
       " 0\n",
       " 0\n",
       " 0\n",
       " 0\n",
       " 0\n",
       " 0\n",
       " 1"
      ]
     },
     "execution_count": 71,
     "metadata": {},
     "output_type": "execute_result"
    }
   ],
   "source": [
    "classify(x_100, θ)\n",
    "classify(X, θ)"
   ]
  },
  {
   "cell_type": "code",
   "execution_count": 82,
   "metadata": {},
   "outputs": [
    {
     "data": {
      "text/plain": [
       "evaluate (generic function with 2 methods)"
      ]
     },
     "execution_count": 82,
     "metadata": {},
     "output_type": "execute_result"
    }
   ],
   "source": [
    "function evaluate(X, y, θ, ϵ = 0.5)\n",
    "    prediction = classify(X, θ, ϵ)\n",
    "    sum(prediction .== y)/length(y)\n",
    "end"
   ]
  },
  {
   "cell_type": "code",
   "execution_count": 77,
   "metadata": {},
   "outputs": [
    {
     "name": "stdout",
     "output_type": "stream",
     "text": [
      "Training accuracy = 0.9384885764499121\n"
     ]
    }
   ],
   "source": [
    "accuracy = evaluate(X, y, θ)\n",
    "println(\"Training accuracy = $(accuracy)\")"
   ]
  },
  {
   "cell_type": "code",
   "execution_count": 86,
   "metadata": {},
   "outputs": [
    {
     "data": {
      "text/plain": [
       "41-element Array{Float64,1}:\n",
       " 0.9103690685413005\n",
       " 0.9191564147627417\n",
       " 0.9244288224956063\n",
       " 0.929701230228471 \n",
       " 0.9279437609841827\n",
       " 0.929701230228471 \n",
       " 0.9279437609841827\n",
       " 0.9332161687170475\n",
       " 0.9367311072056239\n",
       " 0.9367311072056239\n",
       " 0.9384885764499121\n",
       " 0.9402460456942003\n",
       " 0.9384885764499121\n",
       " ⋮                 \n",
       " 0.8910369068541301\n",
       " 0.8804920913884007\n",
       " 0.875219683655536 \n",
       " 0.8646748681898067\n",
       " 0.8611599297012302\n",
       " 0.8611599297012302\n",
       " 0.8506151142355008\n",
       " 0.836555360281195 \n",
       " 0.827768014059754 \n",
       " 0.8189806678383128\n",
       " 0.8031634446397188\n",
       " 0.7943760984182777"
      ]
     },
     "execution_count": 86,
     "metadata": {},
     "output_type": "execute_result"
    }
   ],
   "source": [
    "ϵs = collect(0.4:0.01:0.8)\n",
    "as = map(i -> evaluate(X, y, θ, ϵs[i]), 1:length(ϵs))"
   ]
  },
  {
   "cell_type": "code",
   "execution_count": 90,
   "metadata": {},
   "outputs": [
    {
     "data": {
      "image/svg+xml": [
       "<?xml version=\"1.0\" encoding=\"utf-8\"?>\n",
       "<svg xmlns=\"http://www.w3.org/2000/svg\" xmlns:xlink=\"http://www.w3.org/1999/xlink\" width=\"600\" height=\"400\" viewBox=\"0 0 2400 1600\">\n",
       "<defs>\n",
       "  <clipPath id=\"clip0100\">\n",
       "    <rect x=\"0\" y=\"0\" width=\"2400\" height=\"1600\"/>\n",
       "  </clipPath>\n",
       "</defs>\n",
       "<path clip-path=\"url(#clip0100)\" d=\"\n",
       "M0 1600 L2400 1600 L2400 0 L0 0  Z\n",
       "  \" fill=\"#ffffff\" fill-rule=\"evenodd\" fill-opacity=\"1\"/>\n",
       "<defs>\n",
       "  <clipPath id=\"clip0101\">\n",
       "    <rect x=\"480\" y=\"0\" width=\"1681\" height=\"1600\"/>\n",
       "  </clipPath>\n",
       "</defs>\n",
       "<path clip-path=\"url(#clip0100)\" d=\"\n",
       "M242.516 1425.62 L2352.76 1425.62 L2352.76 47.2441 L242.516 47.2441  Z\n",
       "  \" fill=\"#ffffff\" fill-rule=\"evenodd\" fill-opacity=\"1\"/>\n",
       "<defs>\n",
       "  <clipPath id=\"clip0102\">\n",
       "    <rect x=\"242\" y=\"47\" width=\"2111\" height=\"1379\"/>\n",
       "  </clipPath>\n",
       "</defs>\n",
       "<polyline clip-path=\"url(#clip0102)\" style=\"stroke:#000000; stroke-width:2; stroke-opacity:0.1; fill:none\" points=\"\n",
       "  302.24,1425.62 302.24,47.2441 \n",
       "  \"/>\n",
       "<polyline clip-path=\"url(#clip0102)\" style=\"stroke:#000000; stroke-width:2; stroke-opacity:0.1; fill:none\" points=\"\n",
       "  799.938,1425.62 799.938,47.2441 \n",
       "  \"/>\n",
       "<polyline clip-path=\"url(#clip0102)\" style=\"stroke:#000000; stroke-width:2; stroke-opacity:0.1; fill:none\" points=\"\n",
       "  1297.64,1425.62 1297.64,47.2441 \n",
       "  \"/>\n",
       "<polyline clip-path=\"url(#clip0102)\" style=\"stroke:#000000; stroke-width:2; stroke-opacity:0.1; fill:none\" points=\"\n",
       "  1795.33,1425.62 1795.33,47.2441 \n",
       "  \"/>\n",
       "<polyline clip-path=\"url(#clip0102)\" style=\"stroke:#000000; stroke-width:2; stroke-opacity:0.1; fill:none\" points=\"\n",
       "  2293.03,1425.62 2293.03,47.2441 \n",
       "  \"/>\n",
       "<polyline clip-path=\"url(#clip0102)\" style=\"stroke:#000000; stroke-width:2; stroke-opacity:0.1; fill:none\" points=\"\n",
       "  242.516,1250.61 2352.76,1250.61 \n",
       "  \"/>\n",
       "<polyline clip-path=\"url(#clip0102)\" style=\"stroke:#000000; stroke-width:2; stroke-opacity:0.1; fill:none\" points=\"\n",
       "  242.516,989.465 2352.76,989.465 \n",
       "  \"/>\n",
       "<polyline clip-path=\"url(#clip0102)\" style=\"stroke:#000000; stroke-width:2; stroke-opacity:0.1; fill:none\" points=\"\n",
       "  242.516,728.323 2352.76,728.323 \n",
       "  \"/>\n",
       "<polyline clip-path=\"url(#clip0102)\" style=\"stroke:#000000; stroke-width:2; stroke-opacity:0.1; fill:none\" points=\"\n",
       "  242.516,467.182 2352.76,467.182 \n",
       "  \"/>\n",
       "<polyline clip-path=\"url(#clip0102)\" style=\"stroke:#000000; stroke-width:2; stroke-opacity:0.1; fill:none\" points=\"\n",
       "  242.516,206.04 2352.76,206.04 \n",
       "  \"/>\n",
       "<polyline clip-path=\"url(#clip0100)\" style=\"stroke:#000000; stroke-width:4; stroke-opacity:1; fill:none\" points=\"\n",
       "  242.516,1425.62 2352.76,1425.62 \n",
       "  \"/>\n",
       "<polyline clip-path=\"url(#clip0100)\" style=\"stroke:#000000; stroke-width:4; stroke-opacity:1; fill:none\" points=\"\n",
       "  242.516,1425.62 242.516,47.2441 \n",
       "  \"/>\n",
       "<polyline clip-path=\"url(#clip0100)\" style=\"stroke:#000000; stroke-width:4; stroke-opacity:1; fill:none\" points=\"\n",
       "  302.24,1425.62 302.24,1409.08 \n",
       "  \"/>\n",
       "<polyline clip-path=\"url(#clip0100)\" style=\"stroke:#000000; stroke-width:4; stroke-opacity:1; fill:none\" points=\"\n",
       "  799.938,1425.62 799.938,1409.08 \n",
       "  \"/>\n",
       "<polyline clip-path=\"url(#clip0100)\" style=\"stroke:#000000; stroke-width:4; stroke-opacity:1; fill:none\" points=\"\n",
       "  1297.64,1425.62 1297.64,1409.08 \n",
       "  \"/>\n",
       "<polyline clip-path=\"url(#clip0100)\" style=\"stroke:#000000; stroke-width:4; stroke-opacity:1; fill:none\" points=\"\n",
       "  1795.33,1425.62 1795.33,1409.08 \n",
       "  \"/>\n",
       "<polyline clip-path=\"url(#clip0100)\" style=\"stroke:#000000; stroke-width:4; stroke-opacity:1; fill:none\" points=\"\n",
       "  2293.03,1425.62 2293.03,1409.08 \n",
       "  \"/>\n",
       "<polyline clip-path=\"url(#clip0100)\" style=\"stroke:#000000; stroke-width:4; stroke-opacity:1; fill:none\" points=\"\n",
       "  242.516,1250.61 267.839,1250.61 \n",
       "  \"/>\n",
       "<polyline clip-path=\"url(#clip0100)\" style=\"stroke:#000000; stroke-width:4; stroke-opacity:1; fill:none\" points=\"\n",
       "  242.516,989.465 267.839,989.465 \n",
       "  \"/>\n",
       "<polyline clip-path=\"url(#clip0100)\" style=\"stroke:#000000; stroke-width:4; stroke-opacity:1; fill:none\" points=\"\n",
       "  242.516,728.323 267.839,728.323 \n",
       "  \"/>\n",
       "<polyline clip-path=\"url(#clip0100)\" style=\"stroke:#000000; stroke-width:4; stroke-opacity:1; fill:none\" points=\"\n",
       "  242.516,467.182 267.839,467.182 \n",
       "  \"/>\n",
       "<polyline clip-path=\"url(#clip0100)\" style=\"stroke:#000000; stroke-width:4; stroke-opacity:1; fill:none\" points=\"\n",
       "  242.516,206.04 267.839,206.04 \n",
       "  \"/>\n",
       "<g clip-path=\"url(#clip0100)\">\n",
       "<text style=\"fill:#000000; fill-opacity:1; font-family:Arial,Helvetica Neue,Helvetica,sans-serif; font-size:48px; text-anchor:middle;\" transform=\"rotate(0, 302.24, 1479.62)\" x=\"302.24\" y=\"1479.62\">0.4</text>\n",
       "</g>\n",
       "<g clip-path=\"url(#clip0100)\">\n",
       "<text style=\"fill:#000000; fill-opacity:1; font-family:Arial,Helvetica Neue,Helvetica,sans-serif; font-size:48px; text-anchor:middle;\" transform=\"rotate(0, 799.938, 1479.62)\" x=\"799.938\" y=\"1479.62\">0.5</text>\n",
       "</g>\n",
       "<g clip-path=\"url(#clip0100)\">\n",
       "<text style=\"fill:#000000; fill-opacity:1; font-family:Arial,Helvetica Neue,Helvetica,sans-serif; font-size:48px; text-anchor:middle;\" transform=\"rotate(0, 1297.64, 1479.62)\" x=\"1297.64\" y=\"1479.62\">0.6</text>\n",
       "</g>\n",
       "<g clip-path=\"url(#clip0100)\">\n",
       "<text style=\"fill:#000000; fill-opacity:1; font-family:Arial,Helvetica Neue,Helvetica,sans-serif; font-size:48px; text-anchor:middle;\" transform=\"rotate(0, 1795.33, 1479.62)\" x=\"1795.33\" y=\"1479.62\">0.7</text>\n",
       "</g>\n",
       "<g clip-path=\"url(#clip0100)\">\n",
       "<text style=\"fill:#000000; fill-opacity:1; font-family:Arial,Helvetica Neue,Helvetica,sans-serif; font-size:48px; text-anchor:middle;\" transform=\"rotate(0, 2293.03, 1479.62)\" x=\"2293.03\" y=\"1479.62\">0.8</text>\n",
       "</g>\n",
       "<g clip-path=\"url(#clip0100)\">\n",
       "<text style=\"fill:#000000; fill-opacity:1; font-family:Arial,Helvetica Neue,Helvetica,sans-serif; font-size:48px; text-anchor:end;\" transform=\"rotate(0, 218.516, 1268.11)\" x=\"218.516\" y=\"1268.11\">0.81</text>\n",
       "</g>\n",
       "<g clip-path=\"url(#clip0100)\">\n",
       "<text style=\"fill:#000000; fill-opacity:1; font-family:Arial,Helvetica Neue,Helvetica,sans-serif; font-size:48px; text-anchor:end;\" transform=\"rotate(0, 218.516, 1006.96)\" x=\"218.516\" y=\"1006.96\">0.84</text>\n",
       "</g>\n",
       "<g clip-path=\"url(#clip0100)\">\n",
       "<text style=\"fill:#000000; fill-opacity:1; font-family:Arial,Helvetica Neue,Helvetica,sans-serif; font-size:48px; text-anchor:end;\" transform=\"rotate(0, 218.516, 745.823)\" x=\"218.516\" y=\"745.823\">0.87</text>\n",
       "</g>\n",
       "<g clip-path=\"url(#clip0100)\">\n",
       "<text style=\"fill:#000000; fill-opacity:1; font-family:Arial,Helvetica Neue,Helvetica,sans-serif; font-size:48px; text-anchor:end;\" transform=\"rotate(0, 218.516, 484.682)\" x=\"218.516\" y=\"484.682\">0.90</text>\n",
       "</g>\n",
       "<g clip-path=\"url(#clip0100)\">\n",
       "<text style=\"fill:#000000; fill-opacity:1; font-family:Arial,Helvetica Neue,Helvetica,sans-serif; font-size:48px; text-anchor:end;\" transform=\"rotate(0, 218.516, 223.54)\" x=\"218.516\" y=\"223.54\">0.93</text>\n",
       "</g>\n",
       "<g clip-path=\"url(#clip0100)\">\n",
       "<text style=\"fill:#000000; fill-opacity:1; font-family:Arial,Helvetica Neue,Helvetica,sans-serif; font-size:66px; text-anchor:middle;\" transform=\"rotate(0, 1297.64, 1559.48)\" x=\"1297.64\" y=\"1559.48\">threshold</text>\n",
       "</g>\n",
       "<g clip-path=\"url(#clip0100)\">\n",
       "<text style=\"fill:#000000; fill-opacity:1; font-family:Arial,Helvetica Neue,Helvetica,sans-serif; font-size:66px; text-anchor:middle;\" transform=\"rotate(-90, 89.2861, 736.431)\" x=\"89.2861\" y=\"736.431\">accuracy</text>\n",
       "</g>\n",
       "<polyline clip-path=\"url(#clip0102)\" style=\"stroke:#009af9; stroke-width:4; stroke-opacity:1; fill:none\" points=\"\n",
       "  302.24,376.922 352.01,300.431 401.78,254.536 451.55,208.641 501.319,223.939 551.089,208.641 600.859,223.939 650.629,178.044 700.399,147.448 750.168,147.448 \n",
       "  799.938,132.15 849.708,116.851 899.478,132.15 949.248,86.2547 999.017,101.553 1048.79,132.15 1098.56,116.851 1148.33,132.15 1198.1,239.237 1247.87,239.237 \n",
       "  1297.64,223.939 1347.41,223.939 1397.18,239.237 1446.95,269.834 1496.72,331.027 1546.49,331.027 1596.25,407.518 1646.02,438.115 1695.79,484.01 1745.56,545.203 \n",
       "  1795.33,636.993 1845.1,682.887 1894.87,774.677 1944.64,805.274 1994.41,805.274 2044.18,897.063 2093.95,1019.45 2143.72,1095.94 2193.49,1172.43 2243.26,1310.12 \n",
       "  2293.03,1386.61 \n",
       "  \"/>\n",
       "</svg>\n"
      ]
     },
     "execution_count": 90,
     "metadata": {},
     "output_type": "execute_result"
    }
   ],
   "source": [
    "plot(ϵs, as, xlabel=\"threshold\", ylabel=\"accuracy\", label=\"\")"
   ]
  },
  {
   "cell_type": "code",
   "execution_count": 92,
   "metadata": {},
   "outputs": [
    {
     "name": "stdout",
     "output_type": "stream",
     "text": [
      "Best ϵ = 0.53\n"
     ]
    }
   ],
   "source": [
    "println(\"Best ϵ = $(ϵs[argmax(as)])\")"
   ]
  }
 ],
 "metadata": {
  "kernelspec": {
   "display_name": "Julia 1.2.0",
   "language": "julia",
   "name": "julia-1.2"
  },
  "language_info": {
   "file_extension": ".jl",
   "mimetype": "application/julia",
   "name": "julia",
   "version": "1.2.0"
  }
 },
 "nbformat": 4,
 "nbformat_minor": 2
}
